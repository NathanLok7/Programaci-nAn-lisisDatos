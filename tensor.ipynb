{
  "nbformat": 4,
  "nbformat_minor": 0,
  "metadata": {
    "colab": {
      "provenance": [],
      "mount_file_id": "12e5pRtN2bz9fqqkvZFkBN9N-WAhKS8_f",
      "authorship_tag": "ABX9TyOdRrn20guSouXab9RHMA77",
      "include_colab_link": true
    },
    "kernelspec": {
      "name": "python3",
      "display_name": "Python 3"
    },
    "language_info": {
      "name": "python"
    }
  },
  "cells": [
    {
      "cell_type": "markdown",
      "metadata": {
        "id": "view-in-github",
        "colab_type": "text"
      },
      "source": [
        "<a href=\"https://colab.research.google.com/github/NathanLok7/Programaci-nAn-lisisDatos/blob/main/tensor.ipynb\" target=\"_parent\"><img src=\"https://colab.research.google.com/assets/colab-badge.svg\" alt=\"Open In Colab\"/></a>"
      ]
    },
    {
      "cell_type": "code",
      "execution_count": 9,
      "metadata": {
        "id": "BA4SQ_YHahtZ"
      },
      "outputs": [],
      "source": [
        "import tensorflow as tf\n",
        "from sklearn.model_selection import train_test_split\n",
        "from sklearn.preprocessing import StandardScaler"
      ]
    },
    {
      "cell_type": "code",
      "source": [
        "dataset1 = tf.data.Dataset.from_tensor_slices(tf.random.uniform([4, 10]))\n",
        "\n",
        "print(dataset1.element_spec)\n"
      ],
      "metadata": {
        "colab": {
          "base_uri": "https://localhost:8080/"
        },
        "id": "8cF2EPLBakG4",
        "outputId": "d1a601d9-03e0-4adf-dcae-11ed0d429357"
      },
      "execution_count": 10,
      "outputs": [
        {
          "output_type": "stream",
          "name": "stdout",
          "text": [
            "TensorSpec(shape=(10,), dtype=tf.float32, name=None)\n"
          ]
        }
      ]
    },
    {
      "cell_type": "code",
      "source": [
        "import pandas as pd\n",
        "from sklearn.model_selection import train_test_split\n",
        "from sklearn.preprocessing import StandardScaler\n",
        "import tensorflow as tf\n",
        "from tensorflow.keras.models import Sequential\n",
        "from tensorflow.keras.layers import Dense\n",
        "\n",
        "# Cargar el conjunto de datos\n",
        "data = pd.read_csv(\"/content/drive/MyDrive/Colab Notebooks/Overfl/Banco_L.csv\")\n",
        "\n",
        "# Separar características y variable objetivo\n",
        "X = data.drop(\"client_stayed\", axis=1)\n",
        "y = data[\"client_stayed\"]\n",
        "\n",
        "# Dividir el conjunto de datos\n",
        "X_train, X_test, y_train, y_test = train_test_split(X, y, test_size=0.2, random_state=42)\n",
        "\n",
        "# Normalizar los datos\n",
        "scaler = StandardScaler()\n",
        "X_train_scaled = scaler.fit_transform(X_train)\n",
        "X_test_scaled = scaler.transform(X_test)\n",
        "\n",
        "# Definir el modelo\n",
        "model = Sequential()\n",
        "model.add(Dense(64, input_dim=X_train_scaled.shape[1], activation='relu'))\n",
        "model.add(Dense(1, activation='sigmoid'))\n",
        "\n",
        "# Compilar el modelo\n",
        "model.compile(loss='binary_crossentropy', optimizer='adam', metrics=['accuracy'])\n",
        "\n",
        "# Entrenar el modelo\n",
        "model.fit(X_train_scaled, y_train, epochs=20, batch_size=32, validation_data=(X_test_scaled, y_test))\n",
        "\n",
        "# Evaluar el modelo\n",
        "loss, accuracy = model.evaluate(X_test_scaled, y_test)\n",
        "print(f\"Accuracy: {accuracy}\")\n",
        "\n",
        "# Hacer predicciones\n",
        "predictions = model.predict(X_test_scaled)\n"
      ],
      "metadata": {
        "id": "i-b_VNZEakPS",
        "colab": {
          "base_uri": "https://localhost:8080/"
        },
        "outputId": "e05b1edd-fad1-4a0d-a4e6-008692278c56"
      },
      "execution_count": 54,
      "outputs": [
        {
          "output_type": "stream",
          "name": "stdout",
          "text": [
            "Epoch 1/20\n",
            "177/177 [==============================] - 3s 6ms/step - loss: 0.4031 - accuracy: 0.8310 - val_loss: 0.2975 - val_accuracy: 0.8899\n",
            "Epoch 2/20\n",
            "177/177 [==============================] - 0s 2ms/step - loss: 0.2843 - accuracy: 0.8907 - val_loss: 0.2647 - val_accuracy: 0.8948\n",
            "Epoch 3/20\n",
            "177/177 [==============================] - 0s 2ms/step - loss: 0.2587 - accuracy: 0.8997 - val_loss: 0.2475 - val_accuracy: 0.8977\n",
            "Epoch 4/20\n",
            "177/177 [==============================] - 0s 3ms/step - loss: 0.2426 - accuracy: 0.9041 - val_loss: 0.2367 - val_accuracy: 0.8998\n",
            "Epoch 5/20\n",
            "177/177 [==============================] - 0s 2ms/step - loss: 0.2298 - accuracy: 0.9087 - val_loss: 0.2282 - val_accuracy: 0.9019\n",
            "Epoch 6/20\n",
            "177/177 [==============================] - 0s 2ms/step - loss: 0.2185 - accuracy: 0.9119 - val_loss: 0.2212 - val_accuracy: 0.9139\n",
            "Epoch 7/20\n",
            "177/177 [==============================] - 0s 2ms/step - loss: 0.2080 - accuracy: 0.9170 - val_loss: 0.2169 - val_accuracy: 0.9160\n",
            "Epoch 8/20\n",
            "177/177 [==============================] - 0s 2ms/step - loss: 0.2000 - accuracy: 0.9190 - val_loss: 0.2139 - val_accuracy: 0.9167\n",
            "Epoch 9/20\n",
            "177/177 [==============================] - 0s 2ms/step - loss: 0.1926 - accuracy: 0.9228 - val_loss: 0.2090 - val_accuracy: 0.9203\n",
            "Epoch 10/20\n",
            "177/177 [==============================] - 0s 2ms/step - loss: 0.1876 - accuracy: 0.9250 - val_loss: 0.2060 - val_accuracy: 0.9174\n",
            "Epoch 11/20\n",
            "177/177 [==============================] - 0s 3ms/step - loss: 0.1832 - accuracy: 0.9271 - val_loss: 0.2059 - val_accuracy: 0.9174\n",
            "Epoch 12/20\n",
            "177/177 [==============================] - 0s 2ms/step - loss: 0.1792 - accuracy: 0.9294 - val_loss: 0.2047 - val_accuracy: 0.9195\n",
            "Epoch 13/20\n",
            "177/177 [==============================] - 0s 3ms/step - loss: 0.1766 - accuracy: 0.9299 - val_loss: 0.2021 - val_accuracy: 0.9167\n",
            "Epoch 14/20\n",
            "177/177 [==============================] - 0s 2ms/step - loss: 0.1738 - accuracy: 0.9317 - val_loss: 0.2039 - val_accuracy: 0.9167\n",
            "Epoch 15/20\n",
            "177/177 [==============================] - 0s 2ms/step - loss: 0.1712 - accuracy: 0.9322 - val_loss: 0.2044 - val_accuracy: 0.9210\n",
            "Epoch 16/20\n",
            "177/177 [==============================] - 0s 3ms/step - loss: 0.1693 - accuracy: 0.9308 - val_loss: 0.2024 - val_accuracy: 0.9195\n",
            "Epoch 17/20\n",
            "177/177 [==============================] - 0s 2ms/step - loss: 0.1675 - accuracy: 0.9341 - val_loss: 0.2035 - val_accuracy: 0.9203\n",
            "Epoch 18/20\n",
            "177/177 [==============================] - 0s 2ms/step - loss: 0.1659 - accuracy: 0.9329 - val_loss: 0.2024 - val_accuracy: 0.9174\n",
            "Epoch 19/20\n",
            "177/177 [==============================] - 0s 2ms/step - loss: 0.1645 - accuracy: 0.9333 - val_loss: 0.2028 - val_accuracy: 0.9181\n",
            "Epoch 20/20\n",
            "177/177 [==============================] - 0s 2ms/step - loss: 0.1627 - accuracy: 0.9349 - val_loss: 0.2015 - val_accuracy: 0.9203\n",
            "45/45 [==============================] - 0s 2ms/step - loss: 0.2015 - accuracy: 0.9203\n",
            "Accuracy: 0.9202540516853333\n",
            "45/45 [==============================] - 0s 2ms/step\n"
          ]
        }
      ]
    },
    {
      "cell_type": "code",
      "source": [
        "# Valores para realizar la predicción (ajústalos según tus necesidades)\n",
        "input_values = [[58, 2, 5833.33, 50, 2, 0, 0, 12000, 1000, 600, 16, 0, 1, 1, 0, 0, 5, 4, 1]]\n",
        "\n",
        "# Normaliza los valores de entrada usando el mismo scaler utilizado durante el entrenamiento\n",
        "input_values_scaled = scaler.transform(input_values)\n",
        "\n",
        "# Realiza la predicción\n",
        "prediction = model.predict(input_values_scaled)\n",
        "\n",
        "# La salida de `predict` es un array de probabilidades para cada clase (en tu caso, dos clases: 0 y 1)\n",
        "# Si solo estás interesado en la clase predicha, puedes redondear la probabilidad\n",
        "predicted_class = round(prediction[0][0])\n",
        "\n",
        "# Muestra la probabilidad de quedarse y la predicción\n",
        "print(f\"Probabilidad de quedarse: {prediction[0][0]}\")\n",
        "print(f\"Probabilidad de irse: {prediction[0][0]}\")\n",
        "print(f\"Predicción: {predicted_class}\")\n"
      ],
      "metadata": {
        "colab": {
          "base_uri": "https://localhost:8080/"
        },
        "id": "DGrnCMs2fOXP",
        "outputId": "a256bd78-f401-4165-8d23-55227e4aac04"
      },
      "execution_count": 63,
      "outputs": [
        {
          "output_type": "stream",
          "name": "stderr",
          "text": [
            "/usr/local/lib/python3.10/dist-packages/sklearn/base.py:439: UserWarning: X does not have valid feature names, but StandardScaler was fitted with feature names\n",
            "  warnings.warn(\n"
          ]
        },
        {
          "output_type": "stream",
          "name": "stdout",
          "text": [
            "1/1 [==============================] - 0s 115ms/step\n",
            "Probabilidad de quedarse: 0.9933649897575378\n",
            "Probabilidad de irse: 0.9933649897575378\n",
            "Predicción: 1\n"
          ]
        }
      ]
    },
    {
      "cell_type": "code",
      "source": [
        "# Hacer predicciones\n",
        "predictions = model.predict(input_values)\n",
        "\n",
        "# Interpretar las probabilidades\n",
        "probability_stay = predictions[0][0]\n",
        "probability_leave = predictions[0][1]\n",
        "\n",
        "# Mostrar las probabilidades\n",
        "print(\"Probabilidad de quedarse:\", probability_stay)\n",
        "print(\"Probabilidad de irse:\", probability_leave)\n",
        "\n"
      ],
      "metadata": {
        "colab": {
          "base_uri": "https://localhost:8080/"
        },
        "id": "r71sxjn_f2re",
        "outputId": "a689f52e-c412-4250-cb44-74267ecb2d4f"
      },
      "execution_count": 18,
      "outputs": [
        {
          "output_type": "stream",
          "name": "stdout",
          "text": [
            "1/1 [==============================] - 0s 104ms/step\n",
            "Probabilidad de quedarse: 1.0\n",
            "Probabilidad de irse: 1.0\n"
          ]
        }
      ]
    }
  ]
}