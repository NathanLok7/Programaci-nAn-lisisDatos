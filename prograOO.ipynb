{
 "cells": [
  {
   "cell_type": "markdown",
   "id": "moral-league",
   "metadata": {},
   "source": [
    "# Programación Orientada a Objetos en Python\n",
    "\n",
    "## Programación para Analítica de Datos\n",
    "### Mtra. Gisel Hernández Chávez"
   ]
  },
  {
   "cell_type": "markdown",
   "id": "strange-documentary",
   "metadata": {},
   "source": [
    "## Temas\n",
    "+ Definición de clase\n",
    "+ Construcción de una clase y métodos mágicos \\__new\\__() e \\__init\\__()\n",
    "+ Inicializador y uso de _self_\n",
    "+ Atributos de instancia\n",
    "+ Uso de _cls_ con \\__new\\__ (cls)\n",
    "+ objeto = instancia de clase\n",
    "+ Atributo de clase y atributo de instancia\n",
    "+ Clase que hereda de un tipo de colección existente como list o set.\n",
    "+ Uso de dir(), \\__main\\__ , \\__dict\\__  y  \\__class\\__\n",
    "+ Introducción a los métodos get() y set()"
   ]
  },
  {
   "cell_type": "markdown",
   "id": "white-northeast",
   "metadata": {},
   "source": [
    "### Definición de clase\n",
    "\n",
    "+ Define los datos y métodos de todos los objetos del mismo tipo. Es como un patrón.\n",
    "+ Se usa la palabra reservada __class__\n",
    "+ **__init()__** es un método mágico (se ejecuta sin invocarse directamente) que inicializa al objeto. Es invocado por el constructor **__new()__**\n",
    "+ Luchador es subclase de object y hereda sus propiedades.\n",
    "+ Las propiedades pueden ser atributos o métodos\n",
    "+ Los métodos de instancia tienen a self (id con la dirección del objeto) como su primer parámetro\n",
    "+ La clase define a un nuevo tipo de datos\n",
    "+ Los módulos de python y las funciones también se tratan como objetos"
   ]
  },
  {
   "cell_type": "code",
   "execution_count": 1,
   "id": "vulnerable-communist",
   "metadata": {},
   "outputs": [],
   "source": [
    "class Luchador:\n",
    "\n",
    "    # Inicializador / Atributos de instancia\n",
    "    def __init__(self, nombre, edad):\n",
    "        self.nombre = nombre\n",
    "        self.edad = edad\n"
   ]
  },
  {
   "cell_type": "code",
   "execution_count": 2,
   "id": "090a0a5d",
   "metadata": {},
   "outputs": [
    {
     "data": {
      "text/plain": [
       "1755644581264"
      ]
     },
     "execution_count": 2,
     "metadata": {},
     "output_type": "execute_result"
    }
   ],
   "source": [
    "id (Luchador) # dirección del objeto de tipo clase (no una instancia de clase)"
   ]
  },
  {
   "cell_type": "code",
   "execution_count": 3,
   "id": "285967bd",
   "metadata": {},
   "outputs": [
    {
     "data": {
      "text/plain": [
       "['__class__',\n",
       " '__delattr__',\n",
       " '__dict__',\n",
       " '__dir__',\n",
       " '__doc__',\n",
       " '__eq__',\n",
       " '__format__',\n",
       " '__ge__',\n",
       " '__getattribute__',\n",
       " '__getstate__',\n",
       " '__gt__',\n",
       " '__hash__',\n",
       " '__init__',\n",
       " '__init_subclass__',\n",
       " '__le__',\n",
       " '__lt__',\n",
       " '__module__',\n",
       " '__ne__',\n",
       " '__new__',\n",
       " '__reduce__',\n",
       " '__reduce_ex__',\n",
       " '__repr__',\n",
       " '__setattr__',\n",
       " '__sizeof__',\n",
       " '__str__',\n",
       " '__subclasshook__',\n",
       " '__weakref__']"
      ]
     },
     "execution_count": 3,
     "metadata": {},
     "output_type": "execute_result"
    }
   ],
   "source": [
    "dir(Luchador)"
   ]
  },
  {
   "cell_type": "code",
   "execution_count": 4,
   "id": "861661ce",
   "metadata": {},
   "outputs": [
    {
     "data": {
      "text/plain": [
       "1688"
      ]
     },
     "execution_count": 4,
     "metadata": {},
     "output_type": "execute_result"
    }
   ],
   "source": [
    "import sys\n",
    "\n",
    "sys.getsizeof(Luchador)"
   ]
  },
  {
   "cell_type": "code",
   "execution_count": 5,
   "id": "ce31201f",
   "metadata": {},
   "outputs": [
    {
     "data": {
      "text/plain": [
       "<__main__.Luchador at 0x198c4be6ed0>"
      ]
     },
     "execution_count": 5,
     "metadata": {},
     "output_type": "execute_result"
    }
   ],
   "source": [
    "cavernario = Luchador('cavernario',50)\n",
    "cavernario"
   ]
  },
  {
   "cell_type": "code",
   "execution_count": 6,
   "id": "f252cf87",
   "metadata": {},
   "outputs": [
    {
     "data": {
      "text/plain": [
       "56"
      ]
     },
     "execution_count": 6,
     "metadata": {},
     "output_type": "execute_result"
    }
   ],
   "source": [
    "sys.getsizeof(cavernario)"
   ]
  },
  {
   "cell_type": "code",
   "execution_count": 7,
   "id": "67e673a6",
   "metadata": {},
   "outputs": [
    {
     "data": {
      "text/plain": [
       "__main__.Luchador"
      ]
     },
     "execution_count": 7,
     "metadata": {},
     "output_type": "execute_result"
    }
   ],
   "source": [
    "type(cavernario)"
   ]
  },
  {
   "cell_type": "code",
   "execution_count": 8,
   "id": "a5271a04",
   "metadata": {},
   "outputs": [
    {
     "data": {
      "text/plain": [
       "'cavernario'"
      ]
     },
     "execution_count": 8,
     "metadata": {},
     "output_type": "execute_result"
    }
   ],
   "source": [
    "cavernario.nombre"
   ]
  },
  {
   "cell_type": "markdown",
   "id": "40861fb7",
   "metadata": {},
   "source": [
    "## Mostrar todas las propiedades de la clase object\n",
    "\n",
    "+ Con dunder (double underscore) se muestran métodos mágicos y atributos privados\n",
    "+ Un solo subrayado se aconseja para las propiedades protegidas (para manipulación de la propia clase y sus herederos)"
   ]
  },
  {
   "cell_type": "code",
   "execution_count": 9,
   "id": "e77a1e44",
   "metadata": {},
   "outputs": [
    {
     "data": {
      "text/plain": [
       "['__class__',\n",
       " '__delattr__',\n",
       " '__dir__',\n",
       " '__doc__',\n",
       " '__eq__',\n",
       " '__format__',\n",
       " '__ge__',\n",
       " '__getattribute__',\n",
       " '__getstate__',\n",
       " '__gt__',\n",
       " '__hash__',\n",
       " '__init__',\n",
       " '__init_subclass__',\n",
       " '__le__',\n",
       " '__lt__',\n",
       " '__ne__',\n",
       " '__new__',\n",
       " '__reduce__',\n",
       " '__reduce_ex__',\n",
       " '__repr__',\n",
       " '__setattr__',\n",
       " '__sizeof__',\n",
       " '__str__',\n",
       " '__subclasshook__']"
      ]
     },
     "execution_count": 9,
     "metadata": {},
     "output_type": "execute_result"
    }
   ],
   "source": [
    "dir(object)  # solo tiene métodos mágicos"
   ]
  },
  {
   "cell_type": "markdown",
   "id": "empirical-variance",
   "metadata": {},
   "source": [
    "## Construcción de objetos\n",
    "\n",
    "+ Una subclase puede heredar un método o redefinirlo. En este último caso anula al del padre. Si quiere que se ejecute el del padre cuando lo anula, tiene que invocarlo explícitamente.\n"
   ]
  },
  {
   "cell_type": "code",
   "execution_count": 10,
   "id": "3f65d422",
   "metadata": {},
   "outputs": [
    {
     "name": "stdout",
     "output_type": "stream",
     "text": [
      "Help on built-in function __new__:\n",
      "\n",
      "__new__(*args, **kwargs) method of builtins.type instance\n",
      "    Create and return a new object.  See help(type) for accurate signature.\n",
      "\n"
     ]
    }
   ],
   "source": [
    "help(object.__new__)  # constructor que crea un objeto y lo retorna, llama a __init__() para que inicialice"
   ]
  },
  {
   "cell_type": "markdown",
   "id": "romance-message",
   "metadata": {},
   "source": [
    "### Métodos mágicos \\__ new \\__ () e \\__ init \\__ () durante la construcción de un objeto\n",
    "\n",
    "+ Primero se ejecuta \\__new\\__ y luego \\__init\\__, que ya recibe del primero _self_\n",
    "+ _cls_ indica la clase\n",
    "\n",
    "### Anulación de \\__ new \\__ () de la clase object\n",
    "\n",
    "+ En la clase object, su método \\__ new \\__ () llama a \\__ init \\__ ()  ,pasándole _self_\n",
    "+ Si lo anula en una subclase (lo sobre escribe) y no llama explícitamente a init, nunca se ejecutará\n",
    "+ Normalmente no se sobreescribe o anula el método \\__ new\\__()"
   ]
  },
  {
   "cell_type": "code",
   "execution_count": 11,
   "id": "constitutional-afternoon",
   "metadata": {},
   "outputs": [],
   "source": [
    "class A(object):  # object es el que está en el tope de la jerarquía y si no se pone se asume por defecto\n",
    "    \n",
    "    # Anulación por sobreescritura\n",
    "    def __new__(cls):  # constructor\n",
    "        print( \"A.__new__ called\")\n",
    "        return super(A, cls).__new__(cls)  # pero se asegura de llamar al new de la superclase\n",
    "\n",
    "    def __init__(self):  # inicializador\n",
    "        print( \"A.__init__ called\")"
   ]
  },
  {
   "cell_type": "code",
   "execution_count": 12,
   "id": "fa01bc5d",
   "metadata": {},
   "outputs": [
    {
     "name": "stdout",
     "output_type": "stream",
     "text": [
      "A.__new__ called\n",
      "A.__init__ called\n"
     ]
    }
   ],
   "source": [
    "a1 = A() # se ejecuta el new y luego el init\n"
   ]
  },
  {
   "cell_type": "markdown",
   "id": "accepting-blind",
   "metadata": {},
   "source": [
    "## <font color = 'red'>  Nota importante </font>\n",
    "\n",
    "Como no se ha definido un método \\__ repr \\__ (o \\__ str \\__ ) en la clase A, esta hereda los de la superclase __object__ y en el mismo se indica que se coloca el ámbito (\\__ main \\__ en este caso), que es el ámbito del módulo. Entonces, todas sus instancias de clase se expresan de esa manera. En cuanto a la clase en sí, debe cambiar \\__ repr \\__ (o \\__ str \\__ ) en la metaclase, es decir, la clase de la cual nuestra clase en cuestión es una instancia; la metaclase predeterminada es type. \n",
    "\n",
    "+ Recuerde que \\__ main \\__ es el nombre del módulo cuando no se ejecuta el mismo desde un import (caso en el cual el nombre es el nombre del archivo. Como aquí lo está ejecutando directamente, se considera como un script y todos los scripts tienen el nombre __main__ en Python.\n",
    "\n",
    "Hay un punto . en el medio porque A es un atributo del script \\__ main \\__ , el módulo; y pertenece al ámbito de nivel de módulo."
   ]
  },
  {
   "cell_type": "code",
   "execution_count": 13,
   "id": "champion-notice",
   "metadata": {},
   "outputs": [
    {
     "data": {
      "text/plain": [
       "True"
      ]
     },
     "execution_count": 13,
     "metadata": {},
     "output_type": "execute_result"
    }
   ],
   "source": [
    "__name__ == '__main__'"
   ]
  },
  {
   "cell_type": "code",
   "execution_count": 14,
   "id": "running-appliance",
   "metadata": {},
   "outputs": [
    {
     "data": {
      "text/plain": [
       "__main__.A"
      ]
     },
     "execution_count": 14,
     "metadata": {},
     "output_type": "execute_result"
    }
   ],
   "source": [
    "a1 = A\n",
    "a1"
   ]
  },
  {
   "cell_type": "markdown",
   "id": "neutral-wagon",
   "metadata": {},
   "source": [
    "### Clase en la que no se llama al \\__ new \\__ () de la superclase y, por tanto, no se ejecuta \\__ init \\__ ()"
   ]
  },
  {
   "cell_type": "code",
   "execution_count": 15,
   "id": "champion-tiffany",
   "metadata": {},
   "outputs": [
    {
     "name": "stdout",
     "output_type": "stream",
     "text": [
      "B.__new__ called\n",
      "None\n"
     ]
    }
   ],
   "source": [
    "class B():\n",
    "\n",
    "    def __new__(cls):\n",
    "        print (\"B.__new__ called\") # no se llama al new de la superclase\n",
    "\n",
    "    def __init__(self):  # Nunca es llamado\n",
    "        print (\"B.__init__ called\" ) \n",
    "\n",
    "print (B()) # __new__() de B retorna None"
   ]
  },
  {
   "cell_type": "markdown",
   "id": "local-weather",
   "metadata": {},
   "source": [
    "Se imprime None porque \\__new__\\(cls) devuelve None (por defecto si no tiene return con alguna otra cosa)"
   ]
  },
  {
   "cell_type": "code",
   "execution_count": 16,
   "id": "outside-track",
   "metadata": {},
   "outputs": [
    {
     "name": "stdout",
     "output_type": "stream",
     "text": [
      "B.__new__ called\n",
      "y nada más\n"
     ]
    }
   ],
   "source": [
    "class B1():\n",
    "\n",
    "    def __new__(cls):  # no se llama al new de la superclase\n",
    "        print (\"B.__new__ called\")\n",
    "        return \"y nada más\"\n",
    "\n",
    "    def __init__(self):  # Nunca es llamado\n",
    "        print (\"B.__init__ called\" ) \n",
    "\n",
    "print (B1())"
   ]
  },
  {
   "cell_type": "code",
   "execution_count": 17,
   "id": "64547f94",
   "metadata": {},
   "outputs": [
    {
     "name": "stdout",
     "output_type": "stream",
     "text": [
      "B.__new__ called\n",
      "B.__init__ called\n"
     ]
    },
    {
     "data": {
      "text/plain": [
       "<__main__.B2 at 0x198c4becd90>"
      ]
     },
     "execution_count": 17,
     "metadata": {},
     "output_type": "execute_result"
    }
   ],
   "source": [
    "class B2():\n",
    "\n",
    "    def __new__(cls):\n",
    "        print (\"B.__new__ called\")\n",
    "        return super().__new__(cls)\n",
    "         \n",
    "\n",
    "    def __init__(self):\n",
    "        print (\"B.__init__ called\" ) # Nunca es llamado\n",
    "\n",
    "B2()"
   ]
  },
  {
   "cell_type": "markdown",
   "id": "flush-trick",
   "metadata": {},
   "source": [
    "### Atributos de instancia\n",
    "\n",
    "En el ejemplo anterior _nombre_ y _edad_ son atributos de instancia, por lo que sus valores son propios de cada objeto. Si se cambia el valor de los mismos en un objeto, no afecta a los otros objetos."
   ]
  },
  {
   "cell_type": "markdown",
   "id": "improving-access",
   "metadata": {},
   "source": [
    "### Creación de instancia de clase, o sea, creación de objeto\n",
    "\n",
    "+ bd es un objeto de la clase Luchador\n",
    "+ A través de la notación de punto (_dot_) se puede manipular a los atributos de datos y de comportamiento (métodos)"
   ]
  },
  {
   "cell_type": "code",
   "execution_count": 18,
   "id": "going-designer",
   "metadata": {},
   "outputs": [],
   "source": [
    "# En la creación se pasan los valores iniciales de los atributos\n",
    "bd = Luchador('Blue Demon',33)"
   ]
  },
  {
   "cell_type": "code",
   "execution_count": 19,
   "id": "technical-hamilton",
   "metadata": {},
   "outputs": [
    {
     "data": {
      "text/plain": [
       "('Blue Demon', 33)"
      ]
     },
     "execution_count": 19,
     "metadata": {},
     "output_type": "execute_result"
    }
   ],
   "source": [
    "# Se usa la notación de punto para acceder a las propiedades de los objetos\n",
    "bd.nombre, bd.edad"
   ]
  },
  {
   "cell_type": "code",
   "execution_count": 20,
   "id": "f4641a07",
   "metadata": {},
   "outputs": [
    {
     "name": "stdout",
     "output_type": "stream",
     "text": [
      "'Luchador' object has no attribute 'deportista'\n"
     ]
    }
   ],
   "source": [
    "try:\n",
    "    cavernario.deportista  ## levanta excepción porque no tiene ee atributo\n",
    "except Exception as e:\n",
    "    print(e)"
   ]
  },
  {
   "cell_type": "markdown",
   "id": "robust-virginia",
   "metadata": {},
   "source": [
    "### Atributo de clase\n",
    "\n",
    "En la siguiente redefinición de la clase Luchador agregamos un atributo de clase. Todos los objetos de esa clase tendrán el mismo valor del atributo de datos _deportista_."
   ]
  },
  {
   "cell_type": "code",
   "execution_count": 21,
   "id": "physical-egypt",
   "metadata": {},
   "outputs": [],
   "source": [
    "class Luchador:\n",
    "\n",
    "    # Atributo de Clase\n",
    "    deportista = True\n",
    "\n",
    "    # Inicialiador / Atributos de instancia (objeto, ejemplar, caso concreto de la clase)\n",
    "    def __init__(self, nombre, edad):\n",
    "        self.nombre = nombre\n",
    "        self.edad = edad"
   ]
  },
  {
   "cell_type": "code",
   "execution_count": 22,
   "id": "58618893",
   "metadata": {},
   "outputs": [
    {
     "data": {
      "text/plain": [
       "True"
      ]
     },
     "execution_count": 22,
     "metadata": {},
     "output_type": "execute_result"
    }
   ],
   "source": [
    "cavernario = Luchador('cavernario',50) # nuevo objeto cavernario\n",
    "cavernario.deportista"
   ]
  },
  {
   "cell_type": "code",
   "execution_count": 23,
   "id": "rocky-transformation",
   "metadata": {},
   "outputs": [
    {
     "data": {
      "text/plain": [
       "True"
      ]
     },
     "execution_count": 23,
     "metadata": {},
     "output_type": "execute_result"
    }
   ],
   "source": [
    "em = Luchador('Santo',34)\n",
    "em.deportista # Note que tiene el mismo valor que cavernario en su atributo deportista"
   ]
  },
  {
   "cell_type": "code",
   "execution_count": 24,
   "id": "elder-phrase",
   "metadata": {},
   "outputs": [
    {
     "data": {
      "text/plain": [
       "True"
      ]
     },
     "execution_count": 24,
     "metadata": {},
     "output_type": "execute_result"
    }
   ],
   "source": [
    "# Como se redefinió la clase, hay que volver a crear el objeto, de lo contrario se levanta un error\n",
    "bd = Luchador('Blue Demon',33)\n",
    "bd.deportista"
   ]
  },
  {
   "cell_type": "markdown",
   "id": "handy-pension",
   "metadata": {},
   "source": [
    "### Otras características de un atributo de clase\n",
    "\n",
    "En la siguiente redefinición de la clase Luchador agregamos un atributo de clase llamado tipo y un método de clase llamado set_tipo(). Se le tiene que colocar el decorador __@classmethod__\n",
    "\n",
    "+ Note que no tiene el parámetro _self_ porque no es método de instancia y se invoca con el nombre de la clase, dado que no es específico para ningún objeto.\n",
    "\n",
    "También se han agregado otros dos métodos de instancia.\n",
    "\n",
    "+ Note que se emplea un decorador precedido por @ para indicar que el método set_tipo es un método de clase\n",
    "+ Los métodos de clase tienen como primer parámetro a cls que es la dirección de el objeto con las propiedades de la clase."
   ]
  },
  {
   "cell_type": "code",
   "execution_count": 25,
   "id": "agricultural-assembly",
   "metadata": {},
   "outputs": [],
   "source": [
    "class Luchador:\n",
    "\n",
    "    # Atributos de Clase\n",
    "    deportista = True\n",
    "    tipo = 'técnico'    # de dato\n",
    "    \n",
    "    @classmethod    # decorador indicando que es un método de clase\n",
    "    def set_tipo(cls,t):       # de método\n",
    "        cls.tipo = t\n",
    "\n",
    "    # Atributos de instancia\n",
    "    \n",
    "    # Inicializador \n",
    "    def __init__(self, nombre, edad):\n",
    "        self.nombre = nombre\n",
    "        self.edad = edad\n",
    "    \n",
    "    # otro método de instancia\n",
    "    def tiempovida(self):\n",
    "        return \"{} murió a los {} años\".format(self.nombre, self.edad)\n",
    "    \n",
    "    # otro método de instancia\n",
    "    def llavepreferida(self, llave):\n",
    "        return \"{} prefería {}\".format(self.nombre, llave)\n"
   ]
  },
  {
   "cell_type": "code",
   "execution_count": 26,
   "id": "controlled-studio",
   "metadata": {},
   "outputs": [
    {
     "name": "stdout",
     "output_type": "stream",
     "text": [
      "El Santo murió a los 66 años y Blue Demon a los 78.\n"
     ]
    }
   ],
   "source": [
    "# Se redefinió la clase; hay que instanciar objetos de la clase Luchador\n",
    "bd = Luchador(\"Blue Demon\", 78)\n",
    "s = Luchador(\"El Santo\", 66)\n",
    "\n",
    "# Acceso a atributos de instancia\n",
    "print(\"{} murió a los {} años y {} a los {}.\".format(s.nombre, s.edad, bd.nombre, bd.edad))"
   ]
  },
  {
   "cell_type": "code",
   "execution_count": 27,
   "id": "senior-amino",
   "metadata": {},
   "outputs": [
    {
     "name": "stdout",
     "output_type": "stream",
     "text": [
      "¡El Santo es un técnico!\n"
     ]
    }
   ],
   "source": [
    "# ¿Es El Santo un luchador rudo?\n",
    "if s.tipo == \"rudo\":\n",
    "    print(\"¡{0} es un {1}!\".format(s.nombre, s.tipo))\n",
    "else:\n",
    "    print(\"¡{0} es un {1}!\".format(s.nombre, s.tipo))\n",
    "    "
   ]
  },
  {
   "cell_type": "markdown",
   "id": "ongoing-bahamas",
   "metadata": {},
   "source": [
    "### Ejercicios: \n",
    "+ Cambie el valor del atributo de clase __tipo__ a “rudo”. ¿Cree que sea correcto este diseño de colocar __tipo__ como atributo de clase?. \n",
    "+ Si no es correcto, redefina la clase Luchador."
   ]
  },
  {
   "cell_type": "code",
   "execution_count": 28,
   "id": "touched-arrangement",
   "metadata": {},
   "outputs": [
    {
     "data": {
      "text/plain": [
       "'rudo'"
      ]
     },
     "execution_count": 28,
     "metadata": {},
     "output_type": "execute_result"
    }
   ],
   "source": [
    "Luchador.set_tipo('rudo')\n",
    "bd.tipo   "
   ]
  },
  {
   "cell_type": "code",
   "execution_count": 29,
   "id": "integrated-judge",
   "metadata": {},
   "outputs": [
    {
     "data": {
      "text/plain": [
       "'rudo'"
      ]
     },
     "execution_count": 29,
     "metadata": {},
     "output_type": "execute_result"
    }
   ],
   "source": [
    "lu = Luchador('Amenaza Roja',80)\n",
    "lu.tipo"
   ]
  },
  {
   "cell_type": "code",
   "execution_count": 30,
   "id": "floral-inspector",
   "metadata": {},
   "outputs": [],
   "source": [
    "# Celda para solución del ejercicio con la redefinición de la clase\n",
    "class Luchador:\n",
    "\n",
    "    # Atributos de Clase\n",
    "    deportista = True   # de dato\n",
    "    \n",
    "    @classmethod    # decorador indicando que es un método de clase\n",
    "    def set_deportista(cls,t):       # de método\n",
    "        cls.deportista = t\n",
    "\n",
    "    # Atributos de instancia\n",
    "    \n",
    "    # Inicializador \n",
    "    def __init__(self, nombre, edad, tipo):\n",
    "        self.nombre = nombre\n",
    "        self.edad = edad\n",
    "        self.tipo = tipo   \n",
    "    \n",
    "    # otro método de instancia\n",
    "    def tiempovida(self):\n",
    "        return \"{} murió a los {} años\".format(self.nombre, self.edad)\n",
    "    \n",
    "    # otro método de instancia\n",
    "    def llavepreferida(self, llave):\n",
    "        return \"{} prefería {}\".format(self.nombre, llave)\n"
   ]
  },
  {
   "attachments": {
    "image.png": {
     "image/png": "[encoded data removed]"
    }
   },
   "cell_type": "markdown",
   "id": "according-collector",
   "metadata": {},
   "source": [
    "### Una clase puede ser una colección que herede de alguna de las existentes (list, set, etc.)\n",
    "\n",
    "![image.png](attachment:image.png)\n",
    "\n",
    "+ En el diagrama anterior se representó una generalización/especialización con lista como súper clase de Lista Animales y una asociación de tipo agregación donde ListaAnimales es un agregado de objetos del tipo Animal"
   ]
  },
  {
   "cell_type": "code",
   "execution_count": 31,
   "id": "e85842e9",
   "metadata": {},
   "outputs": [],
   "source": [
    "class Animal():\n",
    "    \n",
    "    def __init__(self, nombre_cient):\n",
    "        self.nombre_cient = nombre_cient\n",
    "        "
   ]
  },
  {
   "cell_type": "code",
   "execution_count": 32,
   "id": "e76ab022",
   "metadata": {},
   "outputs": [],
   "source": [
    "#dir(list)"
   ]
  },
  {
   "cell_type": "code",
   "execution_count": 33,
   "id": "korean-texas",
   "metadata": {},
   "outputs": [],
   "source": [
    "class ListaAnimales(list):\n",
    " \n",
    "    pass"
   ]
  },
  {
   "cell_type": "code",
   "execution_count": 34,
   "id": "c5b7d150",
   "metadata": {},
   "outputs": [
    {
     "data": {
      "text/plain": [
       "'Hydrochoerus hydrochaeris'"
      ]
     },
     "execution_count": 34,
     "metadata": {},
     "output_type": "execute_result"
    }
   ],
   "source": [
    "capibaraX = Animal('Hydrochoerus hydrochaeris')\n",
    "capibaraX.nombre_cient"
   ]
  },
  {
   "cell_type": "code",
   "execution_count": 35,
   "id": "7d8da07a",
   "metadata": {},
   "outputs": [],
   "source": [
    "LA = ListaAnimales()\n",
    "LA.append(capibaraX)"
   ]
  },
  {
   "cell_type": "code",
   "execution_count": 36,
   "id": "ccb1f603",
   "metadata": {},
   "outputs": [
    {
     "data": {
      "text/plain": [
       "'Hydrochoerus hydrochaeris'"
      ]
     },
     "execution_count": 36,
     "metadata": {},
     "output_type": "execute_result"
    }
   ],
   "source": [
    "LA[0].nombre_cient"
   ]
  },
  {
   "cell_type": "code",
   "execution_count": 37,
   "id": "4e95839d",
   "metadata": {},
   "outputs": [
    {
     "name": "stdout",
     "output_type": "stream",
     "text": [
      "Hydrochoerus hydrochaeris\n",
      "Anura\n"
     ]
    }
   ],
   "source": [
    "LA.append(Animal('Anura'))\n",
    "for i in LA:\n",
    "    print(i.nombre_cient)"
   ]
  },
  {
   "cell_type": "code",
   "execution_count": 38,
   "id": "c103dda6",
   "metadata": {},
   "outputs": [],
   "source": [
    "class ListaLuchadores(list):\n",
    "    pass"
   ]
  },
  {
   "cell_type": "code",
   "execution_count": 39,
   "id": "bulgarian-sperm",
   "metadata": {},
   "outputs": [
    {
     "data": {
      "text/plain": [
       "[]"
      ]
     },
     "execution_count": 39,
     "metadata": {},
     "output_type": "execute_result"
    }
   ],
   "source": [
    "luchadores = ListaLuchadores()\n",
    "luchadores"
   ]
  },
  {
   "cell_type": "code",
   "execution_count": 40,
   "id": "contained-control",
   "metadata": {},
   "outputs": [
    {
     "data": {
      "text/plain": [
       "'Blue Demon'"
      ]
     },
     "execution_count": 40,
     "metadata": {},
     "output_type": "execute_result"
    }
   ],
   "source": [
    "luchadores.append(bd)\n",
    "luchadores[0].nombre"
   ]
  },
  {
   "cell_type": "markdown",
   "id": "unsigned-printing",
   "metadata": {},
   "source": [
    "### Otro ejemplo\n",
    "+ Note que el atributo breed y el atributo buddy no se inicializan con \\__init\\__(self), sino después de haberse ejecutado los métodos set_breed() y setBuddy() respectivamente\n",
    "+ Usando dir() puede darse cuenta cómo un objeto es dinámico y puede cambiar"
   ]
  },
  {
   "cell_type": "code",
   "execution_count": 41,
   "id": "posted-sally",
   "metadata": {},
   "outputs": [],
   "source": [
    "class Dog:\n",
    "\n",
    "    def __init__(self, name, age):  \n",
    "        self.name = name\n",
    "        self.age = age\n",
    "\n",
    "    def bark(self):\n",
    "        print(\"bark bark!\")\n",
    "\n",
    "    def doginfo(self):\n",
    "        print(self.name + \" is \" + str(self.age) + \" year(s) old.\")\n",
    "\n",
    "    def birthday(self):\n",
    "        self.age +=1\n",
    "\n",
    "    def setBuddy(self, buddy): # buddy es otro objeto\n",
    "        self.amigo = buddy     # Se crea un atributo de instancia llamado amigo y se le asigna el objeto buddy recibido\n",
    "        buddy.amigo = self     # Al atributo amigo del objeto recibido se le asigna el objeto que llama referenciado con self\n",
    "        \n",
    "    def set_breed(self,raza):\n",
    "        self.breed = raza"
   ]
  },
  {
   "cell_type": "code",
   "execution_count": 42,
   "id": "broken-inspector",
   "metadata": {},
   "outputs": [
    {
     "data": {
      "text/plain": [
       "['__class__',\n",
       " '__delattr__',\n",
       " '__dict__',\n",
       " '__dir__',\n",
       " '__doc__',\n",
       " '__eq__',\n",
       " '__format__',\n",
       " '__ge__',\n",
       " '__getattribute__',\n",
       " '__getstate__',\n",
       " '__gt__',\n",
       " '__hash__',\n",
       " '__init__',\n",
       " '__init_subclass__',\n",
       " '__le__',\n",
       " '__lt__',\n",
       " '__module__',\n",
       " '__ne__',\n",
       " '__new__',\n",
       " '__reduce__',\n",
       " '__reduce_ex__',\n",
       " '__repr__',\n",
       " '__setattr__',\n",
       " '__sizeof__',\n",
       " '__str__',\n",
       " '__subclasshook__',\n",
       " '__weakref__',\n",
       " 'bark',\n",
       " 'birthday',\n",
       " 'doginfo',\n",
       " 'setBuddy',\n",
       " 'set_breed']"
      ]
     },
     "execution_count": 42,
     "metadata": {},
     "output_type": "execute_result"
    }
   ],
   "source": [
    "dir(Dog)"
   ]
  },
  {
   "cell_type": "code",
   "execution_count": 43,
   "id": "advance-settlement",
   "metadata": {},
   "outputs": [
    {
     "data": {
      "text/plain": [
       "['__class__',\n",
       " '__delattr__',\n",
       " '__dict__',\n",
       " '__dir__',\n",
       " '__doc__',\n",
       " '__eq__',\n",
       " '__format__',\n",
       " '__ge__',\n",
       " '__getattribute__',\n",
       " '__getstate__',\n",
       " '__gt__',\n",
       " '__hash__',\n",
       " '__init__',\n",
       " '__init_subclass__',\n",
       " '__le__',\n",
       " '__lt__',\n",
       " '__module__',\n",
       " '__ne__',\n",
       " '__new__',\n",
       " '__reduce__',\n",
       " '__reduce_ex__',\n",
       " '__repr__',\n",
       " '__setattr__',\n",
       " '__sizeof__',\n",
       " '__str__',\n",
       " '__subclasshook__',\n",
       " '__weakref__',\n",
       " 'age',\n",
       " 'bark',\n",
       " 'birthday',\n",
       " 'doginfo',\n",
       " 'name',\n",
       " 'setBuddy',\n",
       " 'set_breed']"
      ]
     },
     "execution_count": 43,
     "metadata": {},
     "output_type": "execute_result"
    }
   ],
   "source": [
    "perrito_ozzy = Dog(\"Ozzy\", 2) \n",
    "dir(perrito_ozzy)"
   ]
  },
  {
   "cell_type": "code",
   "execution_count": 44,
   "id": "continuing-princess",
   "metadata": {},
   "outputs": [],
   "source": [
    "perrito_ozzy.set_breed('Terrier')"
   ]
  },
  {
   "cell_type": "code",
   "execution_count": 45,
   "id": "cathedral-dictionary",
   "metadata": {},
   "outputs": [
    {
     "data": {
      "text/plain": [
       "['__class__',\n",
       " '__delattr__',\n",
       " '__dict__',\n",
       " '__dir__',\n",
       " '__doc__',\n",
       " '__eq__',\n",
       " '__format__',\n",
       " '__ge__',\n",
       " '__getattribute__',\n",
       " '__getstate__',\n",
       " '__gt__',\n",
       " '__hash__',\n",
       " '__init__',\n",
       " '__init_subclass__',\n",
       " '__le__',\n",
       " '__lt__',\n",
       " '__module__',\n",
       " '__ne__',\n",
       " '__new__',\n",
       " '__reduce__',\n",
       " '__reduce_ex__',\n",
       " '__repr__',\n",
       " '__setattr__',\n",
       " '__sizeof__',\n",
       " '__str__',\n",
       " '__subclasshook__',\n",
       " '__weakref__',\n",
       " 'age',\n",
       " 'bark',\n",
       " 'birthday',\n",
       " 'breed',\n",
       " 'doginfo',\n",
       " 'name',\n",
       " 'setBuddy',\n",
       " 'set_breed']"
      ]
     },
     "execution_count": 45,
     "metadata": {},
     "output_type": "execute_result"
    }
   ],
   "source": [
    "dir(perrito_ozzy)"
   ]
  },
  {
   "attachments": {
    "image.png": {
     "image/png": "[encoded data removed]"
    }
   },
   "cell_type": "markdown",
   "id": "wrong-kidney",
   "metadata": {},
   "source": [
    "### Se asocian dos objetos\n",
    "\n",
    "![image.png](attachment:image.png)"
   ]
  },
  {
   "cell_type": "code",
   "execution_count": 46,
   "id": "silver-pearl",
   "metadata": {},
   "outputs": [],
   "source": [
    "perrito_filou = Dog(\"Filou\", 8)\n",
    "# El perro amigo tiene que existir previamente\n",
    "perrito_ozzy.setBuddy(perrito_filou)\n",
    "# Ahora perrito_ozzy tiene otro atributo. Véalo con dir()"
   ]
  },
  {
   "cell_type": "code",
   "execution_count": 47,
   "id": "filled-observation",
   "metadata": {},
   "outputs": [
    {
     "data": {
      "text/plain": [
       "['__class__',\n",
       " '__delattr__',\n",
       " '__dict__',\n",
       " '__dir__',\n",
       " '__doc__',\n",
       " '__eq__',\n",
       " '__format__',\n",
       " '__ge__',\n",
       " '__getattribute__',\n",
       " '__getstate__',\n",
       " '__gt__',\n",
       " '__hash__',\n",
       " '__init__',\n",
       " '__init_subclass__',\n",
       " '__le__',\n",
       " '__lt__',\n",
       " '__module__',\n",
       " '__ne__',\n",
       " '__new__',\n",
       " '__reduce__',\n",
       " '__reduce_ex__',\n",
       " '__repr__',\n",
       " '__setattr__',\n",
       " '__sizeof__',\n",
       " '__str__',\n",
       " '__subclasshook__',\n",
       " '__weakref__',\n",
       " 'age',\n",
       " 'amigo',\n",
       " 'bark',\n",
       " 'birthday',\n",
       " 'breed',\n",
       " 'doginfo',\n",
       " 'name',\n",
       " 'setBuddy',\n",
       " 'set_breed']"
      ]
     },
     "execution_count": 47,
     "metadata": {},
     "output_type": "execute_result"
    }
   ],
   "source": [
    "dir(perrito_ozzy)"
   ]
  },
  {
   "cell_type": "code",
   "execution_count": 48,
   "id": "photographic-slope",
   "metadata": {},
   "outputs": [
    {
     "name": "stdout",
     "output_type": "stream",
     "text": [
      "Filou\n",
      "8\n",
      "Ozzy\n",
      "2\n",
      "Filou is 8 year(s) old.\n"
     ]
    }
   ],
   "source": [
    "print(perrito_ozzy.amigo.name)\n",
    "print(perrito_ozzy.amigo.age)\n",
    "\n",
    "print(perrito_filou.amigo.name)\n",
    "print(perrito_filou.amigo.age)\n",
    "perrito_ozzy.amigo.doginfo()"
   ]
  },
  {
   "cell_type": "markdown",
   "id": "supposed-dakota",
   "metadata": {},
   "source": [
    "### Dos formas de conocer la clase de un objeto"
   ]
  },
  {
   "cell_type": "code",
   "execution_count": 49,
   "id": "parallel-upgrade",
   "metadata": {},
   "outputs": [
    {
     "data": {
      "text/plain": [
       "__main__.Dog"
      ]
     },
     "execution_count": 49,
     "metadata": {},
     "output_type": "execute_result"
    }
   ],
   "source": [
    "type(perrito_ozzy)"
   ]
  },
  {
   "cell_type": "code",
   "execution_count": 50,
   "id": "fewer-finland",
   "metadata": {},
   "outputs": [
    {
     "data": {
      "text/plain": [
       "__main__.Dog"
      ]
     },
     "execution_count": 50,
     "metadata": {},
     "output_type": "execute_result"
    }
   ],
   "source": [
    "perrito_ozzy.__class__"
   ]
  },
  {
   "cell_type": "markdown",
   "id": "nutritional-writing",
   "metadata": {},
   "source": [
    "### Cada objeto tiene asociado un diccionario con sus atributos de datos"
   ]
  },
  {
   "cell_type": "code",
   "execution_count": 51,
   "id": "governing-parish",
   "metadata": {},
   "outputs": [
    {
     "data": {
      "text/plain": [
       "{'name': 'Ozzy',\n",
       " 'age': 2,\n",
       " 'breed': 'Terrier',\n",
       " 'amigo': <__main__.Dog at 0x198c4c01f50>}"
      ]
     },
     "execution_count": 51,
     "metadata": {},
     "output_type": "execute_result"
    }
   ],
   "source": [
    "perrito_ozzy.__dict__"
   ]
  },
  {
   "cell_type": "markdown",
   "id": "accurate-nashville",
   "metadata": {},
   "source": [
    "### Ejemplo de clase vacía de la que se crean objetos y se generan atributos\n",
    "+ Los atributos se adicionan al diccionario de atributos del objeto"
   ]
  },
  {
   "cell_type": "code",
   "execution_count": 52,
   "id": "minus-chain",
   "metadata": {},
   "outputs": [
    {
     "name": "stdout",
     "output_type": "stream",
     "text": [
      "Marvin\n"
     ]
    }
   ],
   "source": [
    "class Robot:   # Clase vacía\n",
    "    pass\n",
    "\n",
    "# Dos objetos de la clase Robot()\n",
    "x = Robot()\n",
    "y = Robot()\n",
    "\n",
    "# Se le crean nuevos atributos a los objetos y se les asignan valores\n",
    "x.name = \"Marvin\"\n",
    "x.build_year = \"1979\"\n",
    " \n",
    "y.name = \"Caliban\"\n",
    "y.build_year = \"1993\"\n",
    " \n",
    "print(x.name)"
   ]
  },
  {
   "cell_type": "code",
   "execution_count": 53,
   "id": "egyptian-peeing",
   "metadata": {},
   "outputs": [
    {
     "data": {
      "text/plain": [
       "{'name': 'Marvin', 'build_year': '1979'}"
      ]
     },
     "execution_count": 53,
     "metadata": {},
     "output_type": "execute_result"
    }
   ],
   "source": [
    "x.__dict__"
   ]
  },
  {
   "cell_type": "markdown",
   "id": "vocational-container",
   "metadata": {},
   "source": [
    "### Diccionario de atributos de la clase\n",
    "\n",
    "Observe que la clase Robot no tiene los tributos name ni build_year, pero sí el objeto x (celda anterior)."
   ]
  },
  {
   "cell_type": "code",
   "execution_count": 54,
   "id": "vietnamese-movie",
   "metadata": {},
   "outputs": [
    {
     "data": {
      "text/plain": [
       "mappingproxy({'__module__': '__main__',\n",
       "              '__dict__': <attribute '__dict__' of 'Robot' objects>,\n",
       "              '__weakref__': <attribute '__weakref__' of 'Robot' objects>,\n",
       "              '__doc__': None})"
      ]
     },
     "execution_count": 54,
     "metadata": {},
     "output_type": "execute_result"
    }
   ],
   "source": [
    "Robot.__dict__"
   ]
  },
  {
   "cell_type": "markdown",
   "id": "presidential-technician",
   "metadata": {},
   "source": [
    "Observe a continuación tanto lo que aparece en el diccionario de la clase luchador, como lo que aparece en el diccionario del objeto bd."
   ]
  },
  {
   "cell_type": "code",
   "execution_count": 55,
   "id": "presidential-groove",
   "metadata": {},
   "outputs": [
    {
     "data": {
      "text/plain": [
       "mappingproxy({'__module__': '__main__',\n",
       "              'deportista': True,\n",
       "              'set_deportista': <classmethod(<function Luchador.set_deportista at 0x00000198C4BAB7E0>)>,\n",
       "              '__init__': <function __main__.Luchador.__init__(self, nombre, edad, tipo)>,\n",
       "              'tiempovida': <function __main__.Luchador.tiempovida(self)>,\n",
       "              'llavepreferida': <function __main__.Luchador.llavepreferida(self, llave)>,\n",
       "              '__dict__': <attribute '__dict__' of 'Luchador' objects>,\n",
       "              '__weakref__': <attribute '__weakref__' of 'Luchador' objects>,\n",
       "              '__doc__': None})"
      ]
     },
     "execution_count": 55,
     "metadata": {},
     "output_type": "execute_result"
    }
   ],
   "source": [
    "Luchador.__dict__"
   ]
  },
  {
   "cell_type": "code",
   "execution_count": 56,
   "id": "quantitative-satellite",
   "metadata": {},
   "outputs": [
    {
     "data": {
      "text/plain": [
       "{'nombre': 'Blue Demon', 'edad': 78}"
      ]
     },
     "execution_count": 56,
     "metadata": {},
     "output_type": "execute_result"
    }
   ],
   "source": [
    "bd.__dict__"
   ]
  },
  {
   "cell_type": "markdown",
   "id": "unusual-sailing",
   "metadata": {},
   "source": [
    "### Redefinición de clase Robot con métodos get() y set()\n",
    "\n",
    "+ get() sirve para devolver el valor de atributos sin hacer referencia a ellos, de manera que pueda hacer \"ocultamiento\" de manera protegida o privada"
   ]
  },
  {
   "cell_type": "code",
   "execution_count": 57,
   "id": "buried-narrative",
   "metadata": {},
   "outputs": [],
   "source": [
    "class Robot:\n",
    " \n",
    "    def __init__(self, name=None):  # Si al inicializar el objeto no se le asigna nombre, se le pone None por defecto\n",
    "        self.__name = name   # Con doble subrayado al inicio indicamos que lo queremos privado\n",
    "        self.prueba = True\n",
    "        \n",
    "    def say_hi(self):\n",
    "        if self.__name:\n",
    "            print(\"Hi, I am \" + self.__name)\n",
    "        else:\n",
    "            print(\"Hi, I am a robot without a name\")\n",
    "            \n",
    "    def set_name(self, name): # Quien desee fuera de esta clase cambiar el valor de name debe llamar a este método\n",
    "        self.__name = name\n",
    "        \n",
    "    def get_name(self):   # Quien desee fuera de esta clase conocer el valor de name debe llamar a este método\n",
    "        return self.__name\n",
    "    "
   ]
  },
  {
   "cell_type": "code",
   "execution_count": 58,
   "id": "homeless-series",
   "metadata": {},
   "outputs": [
    {
     "name": "stdout",
     "output_type": "stream",
     "text": [
      "Hi, I am Henry\n"
     ]
    }
   ],
   "source": [
    "x = Robot()\n",
    "x.set_name(\"Henry\")         # Se crea el objeto con nombre\n",
    "x.say_hi()"
   ]
  },
  {
   "cell_type": "code",
   "execution_count": 59,
   "id": "developed-galaxy",
   "metadata": {},
   "outputs": [
    {
     "name": "stdout",
     "output_type": "stream",
     "text": [
      "Hi, I am a robot without a name\n"
     ]
    }
   ],
   "source": [
    "y = Robot()                 # Se crea el objeto sin nombre\n",
    "y.say_hi()"
   ]
  },
  {
   "cell_type": "code",
   "execution_count": 60,
   "id": "wrapped-selection",
   "metadata": {},
   "outputs": [
    {
     "name": "stdout",
     "output_type": "stream",
     "text": [
      "Henry\n"
     ]
    }
   ],
   "source": [
    "y.set_name(x.get_name()) # Se pasa el nombre de x y entonces y se llamará igual\n",
    "print(y.get_name())"
   ]
  },
  {
   "cell_type": "code",
   "execution_count": 61,
   "id": "devoted-trauma",
   "metadata": {},
   "outputs": [
    {
     "name": "stdout",
     "output_type": "stream",
     "text": [
      "'Robot' object has no attribute '__name'\n"
     ]
    }
   ],
   "source": [
    "try:\n",
    "    x.__name  # El atributo es privado y solo se puede acceder a través de un método tipo gettter\n",
    "except Exception as e:\n",
    "    print(e)"
   ]
  },
  {
   "cell_type": "code",
   "execution_count": 62,
   "id": "07b747ca",
   "metadata": {},
   "outputs": [
    {
     "data": {
      "text/plain": [
       "'Henry'"
      ]
     },
     "execution_count": 62,
     "metadata": {},
     "output_type": "execute_result"
    }
   ],
   "source": [
    "x.get_name()"
   ]
  },
  {
   "cell_type": "code",
   "execution_count": 63,
   "id": "honey-storm",
   "metadata": {},
   "outputs": [
    {
     "data": {
      "text/plain": [
       "True"
      ]
     },
     "execution_count": 63,
     "metadata": {},
     "output_type": "execute_result"
    }
   ],
   "source": [
    "x.prueba  # El atributo es público"
   ]
  },
  {
   "cell_type": "markdown",
   "id": "atlantic-sailing",
   "metadata": {},
   "source": [
    "## Ejercicio\n",
    "Agregar un atributo adicional \"build_year\" con getters y setters a la clase Robot."
   ]
  },
  {
   "cell_type": "code",
   "execution_count": 64,
   "id": "labeled-genesis",
   "metadata": {},
   "outputs": [],
   "source": [
    "# Celda para la solución del ejercicio\n",
    "\n",
    "\n"
   ]
  },
  {
   "cell_type": "markdown",
   "id": "direct-sleeping",
   "metadata": {},
   "source": [
    "## Ocultamiento de información. Atributos públicos, protegidos y privados\n",
    "\n",
    "Coloque en el archivo attribute_test.py la siguiente clase\n",
    "<code>\n",
    "    class A():\n",
    "    \n",
    "    def __init__(self):\n",
    "        self.__priv = \"I am private\"\n",
    "        self._prot = \"I am protected\"\n",
    "        self.pub = \"I am public\"\n",
    "    <code>"
   ]
  },
  {
   "cell_type": "code",
   "execution_count": 65,
   "id": "greatest-dodge",
   "metadata": {},
   "outputs": [
    {
     "ename": "ModuleNotFoundError",
     "evalue": "No module named 'attribute_test'",
     "output_type": "error",
     "traceback": [
      "\u001b[1;31m---------------------------------------------------------------------------\u001b[0m",
      "\u001b[1;31mModuleNotFoundError\u001b[0m                       Traceback (most recent call last)",
      "\u001b[1;32mc:\\Users\\Nathan\\OneDrive\\Escritorio\\Progra\\Programación para análisis de datos\\prograOO.ipynb Celda 90\u001b[0m line \u001b[0;36m1\n\u001b[1;32m----> <a href='vscode-notebook-cell:/c%3A/Users/Nathan/OneDrive/Escritorio/Progra/Programaci%C3%B3n%20para%20an%C3%A1lisis%20de%20datos/prograOO.ipynb#Y155sZmlsZQ%3D%3D?line=0'>1</a>\u001b[0m \u001b[39mfrom\u001b[39;00m \u001b[39mattribute_test\u001b[39;00m \u001b[39mimport\u001b[39;00m A\n\u001b[0;32m      <a href='vscode-notebook-cell:/c%3A/Users/Nathan/OneDrive/Escritorio/Progra/Programaci%C3%B3n%20para%20an%C3%A1lisis%20de%20datos/prograOO.ipynb#Y155sZmlsZQ%3D%3D?line=1'>2</a>\u001b[0m x \u001b[39m=\u001b[39m A()\n\u001b[0;32m      <a href='vscode-notebook-cell:/c%3A/Users/Nathan/OneDrive/Escritorio/Progra/Programaci%C3%B3n%20para%20an%C3%A1lisis%20de%20datos/prograOO.ipynb#Y155sZmlsZQ%3D%3D?line=2'>3</a>\u001b[0m x\u001b[39m.\u001b[39mpub      \u001b[39m# hay \"visibilidad\" del atributo; no está oculto para los que no sean miembros de la clase\u001b[39;00m\n",
      "\u001b[1;31mModuleNotFoundError\u001b[0m: No module named 'attribute_test'"
     ]
    }
   ],
   "source": [
    "from attribute_test import A\n",
    "x = A()\n",
    "x.pub      # hay \"visibilidad\" del atributo; no está oculto para los que no sean miembros de la clase"
   ]
  },
  {
   "cell_type": "code",
   "execution_count": null,
   "id": "focal-chrome",
   "metadata": {},
   "outputs": [
    {
     "data": {
      "text/plain": [
       "'I am public and my value can be changed'"
      ]
     },
     "execution_count": 66,
     "metadata": {},
     "output_type": "execute_result"
    }
   ],
   "source": [
    "x.pub = x.pub + \" and my value can be changed\"\n",
    "x.pub"
   ]
  },
  {
   "cell_type": "code",
   "execution_count": null,
   "id": "contrary-store",
   "metadata": {},
   "outputs": [
    {
     "data": {
      "text/plain": [
       "'I am protected'"
      ]
     },
     "execution_count": 67,
     "metadata": {},
     "output_type": "execute_result"
    }
   ],
   "source": [
    "x._prot"
   ]
  },
  {
   "cell_type": "code",
   "execution_count": null,
   "id": "auburn-address",
   "metadata": {},
   "outputs": [
    {
     "name": "stdout",
     "output_type": "stream",
     "text": [
      "'A' object has no attribute '__priv'\n"
     ]
    }
   ],
   "source": [
    "try:\n",
    "    x.__priv  # No hay visibilidad para los miembros privados.\n",
    "except Exception as e:\n",
    "    print(e)"
   ]
  },
  {
   "cell_type": "markdown",
   "id": "iraqi-blues",
   "metadata": {},
   "source": [
    "## Destructor\n",
    "\n",
    "Es el método que elimina un objeto. Normalmente no es necesario redefinirlo y se usa el método mágico por defecto. Esto se debe a que Python cuenta con recolección de basura. El algunos casos específicos se requiere y entonces se redefine el método \\__ del \\__ ()\n",
    "\n",
    "Puede ver más ejemplos en https://www.geeksforgeeks.org/destructors-in-python/ "
   ]
  },
  {
   "cell_type": "code",
   "execution_count": null,
   "id": "industrial-lender",
   "metadata": {},
   "outputs": [],
   "source": [
    "class Robot():\n",
    "    \n",
    "    def __init__(self, name):\n",
    "        print(name + \" has been created!\")\n",
    "        \n",
    "    def __del__(self):\n",
    "        print (\"Robot has been destroyed\")\n",
    "        "
   ]
  },
  {
   "cell_type": "code",
   "execution_count": null,
   "id": "worst-sheffield",
   "metadata": {},
   "outputs": [
    {
     "name": "stdout",
     "output_type": "stream",
     "text": [
      "Tik-Tok has been created!\n"
     ]
    }
   ],
   "source": [
    "x = Robot(\"Tik-Tok\")"
   ]
  },
  {
   "cell_type": "code",
   "execution_count": null,
   "id": "massive-looking",
   "metadata": {},
   "outputs": [
    {
     "name": "stdout",
     "output_type": "stream",
     "text": [
      "Jenkins has been created!\n"
     ]
    }
   ],
   "source": [
    "y = Robot(\"Jenkins\")"
   ]
  },
  {
   "cell_type": "code",
   "execution_count": null,
   "id": "pleased-jefferson",
   "metadata": {},
   "outputs": [],
   "source": [
    "# Dos referencias al mismo objeto\n",
    "z = x"
   ]
  },
  {
   "cell_type": "code",
   "execution_count": null,
   "id": "italic-fishing",
   "metadata": {},
   "outputs": [
    {
     "data": {
      "text/plain": [
       "(<__main__.Robot at 0x1988f5896f0>, <__main__.Robot at 0x1988f5896f0>)"
      ]
     },
     "execution_count": 73,
     "metadata": {},
     "output_type": "execute_result"
    }
   ],
   "source": [
    "x,z"
   ]
  },
  {
   "cell_type": "markdown",
   "id": "amino-mediterranean",
   "metadata": {},
   "source": [
    "__z es otro objeto con el mismo nombre de x y no requiere ser inicializadado__"
   ]
  },
  {
   "cell_type": "code",
   "execution_count": null,
   "id": "protecting-possible",
   "metadata": {},
   "outputs": [
    {
     "name": "stdout",
     "output_type": "stream",
     "text": [
      "Deleting x\n"
     ]
    }
   ],
   "source": [
    "print(\"Deleting x\")"
   ]
  },
  {
   "cell_type": "code",
   "execution_count": null,
   "id": "smooth-paris",
   "metadata": {},
   "outputs": [],
   "source": [
    "# No se destruye porque hay otra referencia al mismo objeto\n",
    "del x"
   ]
  },
  {
   "cell_type": "code",
   "execution_count": null,
   "id": "representative-collector",
   "metadata": {},
   "outputs": [
    {
     "name": "stdout",
     "output_type": "stream",
     "text": [
      "Robot has been destroyed\n"
     ]
    }
   ],
   "source": [
    "del y"
   ]
  },
  {
   "cell_type": "code",
   "execution_count": null,
   "id": "facial-horizon",
   "metadata": {},
   "outputs": [
    {
     "name": "stdout",
     "output_type": "stream",
     "text": [
      "name 'x' is not defined\n"
     ]
    }
   ],
   "source": [
    "try:\n",
    "    x\n",
    "except Exception as e:\n",
    "    print(e)"
   ]
  },
  {
   "cell_type": "code",
   "execution_count": null,
   "id": "cordless-plaza",
   "metadata": {},
   "outputs": [
    {
     "data": {
      "text/plain": [
       "<__main__.Robot at 0x1988f5896f0>"
      ]
     },
     "execution_count": 78,
     "metadata": {},
     "output_type": "execute_result"
    }
   ],
   "source": [
    "z"
   ]
  },
  {
   "cell_type": "code",
   "execution_count": null,
   "id": "coastal-edition",
   "metadata": {},
   "outputs": [
    {
     "name": "stdout",
     "output_type": "stream",
     "text": [
      "name 'y' is not defined\n"
     ]
    }
   ],
   "source": [
    "try:\n",
    "    y\n",
    "except Exception as e:\n",
    "    print(e)"
   ]
  },
  {
   "attachments": {
    "image.png": {
     "image/png": "[encoded data removed]"
    }
   },
   "cell_type": "markdown",
   "id": "institutional-syndicate",
   "metadata": {},
   "source": [
    "## Otros ejemplos de anulación de métodos\n",
    "\n",
    "Puede usar la función mro() que devuelve el orden en que se atiende la herencia, aplicando el __MRO (Método de Resolución de Orden de Python)__\n",
    "![image.png](attachment:image.png)"
   ]
  },
  {
   "cell_type": "code",
   "execution_count": null,
   "id": "linear-multimedia",
   "metadata": {},
   "outputs": [
    {
     "name": "stdout",
     "output_type": "stream",
     "text": [
      "m of C called\n"
     ]
    }
   ],
   "source": [
    "class A:\n",
    "    def m(self):\n",
    "        print(\"m of A called\")\n",
    "\n",
    "class B(A):\n",
    "    pass\n",
    "    \n",
    "class C(A):\n",
    "    def m(self):                 # Anula al método m() de las superclases\n",
    "        print(\"m of C called\")\n",
    "\n",
    "class D(B,C):\n",
    "    pass\n",
    "\n",
    "x = D()\n",
    "x.m()"
   ]
  },
  {
   "cell_type": "code",
   "execution_count": null,
   "id": "impossible-spring",
   "metadata": {},
   "outputs": [
    {
     "data": {
      "text/plain": [
       "[__main__.D, __main__.B, __main__.C, __main__.A, object]"
      ]
     },
     "execution_count": 82,
     "metadata": {},
     "output_type": "execute_result"
    }
   ],
   "source": [
    "D.mro()"
   ]
  },
  {
   "cell_type": "markdown",
   "id": "metric-telescope",
   "metadata": {},
   "source": [
    "### Ejemplo 1. El método m() en la clase D se sobreescribe (anula al heredado)"
   ]
  },
  {
   "cell_type": "code",
   "execution_count": null,
   "id": "ambient-seating",
   "metadata": {},
   "outputs": [],
   "source": [
    "class A:\n",
    "    def m(self):\n",
    "        print(\"m of A called\")\n",
    "\n",
    "class B(A):\n",
    "    def m(self):\n",
    "        print(\"m of B called\")  # Anula al método m() de las superclases\n",
    "    \n",
    "class C(A):\n",
    "    def m(self):\n",
    "        print(\"m of C called\")  # Anula al método m() de las superclases\n",
    "\n",
    "class D(B,C):\n",
    "    def m(self):\n",
    "        print(\"m of D called\")  # Anula al método m() de las superclases"
   ]
  },
  {
   "cell_type": "code",
   "execution_count": null,
   "id": "brief-victory",
   "metadata": {},
   "outputs": [
    {
     "name": "stdout",
     "output_type": "stream",
     "text": [
      "m of D called\n"
     ]
    }
   ],
   "source": [
    "x = D()\n",
    "x.m()\n"
   ]
  },
  {
   "cell_type": "code",
   "execution_count": null,
   "id": "stunning-percentage",
   "metadata": {},
   "outputs": [
    {
     "data": {
      "text/plain": [
       "[__main__.D, __main__.B, __main__.C, __main__.A, object]"
      ]
     },
     "execution_count": 85,
     "metadata": {},
     "output_type": "execute_result"
    }
   ],
   "source": [
    "D.mro()"
   ]
  },
  {
   "cell_type": "code",
   "execution_count": null,
   "id": "conceptual-entrepreneur",
   "metadata": {},
   "outputs": [
    {
     "name": "stdout",
     "output_type": "stream",
     "text": [
      "m of B called\n"
     ]
    }
   ],
   "source": [
    "B.m(x)"
   ]
  },
  {
   "cell_type": "code",
   "execution_count": null,
   "id": "reflected-memorial",
   "metadata": {},
   "outputs": [
    {
     "data": {
      "text/plain": [
       "[__main__.B, __main__.A, object]"
      ]
     },
     "execution_count": 87,
     "metadata": {},
     "output_type": "execute_result"
    }
   ],
   "source": [
    "B.mro()"
   ]
  },
  {
   "cell_type": "code",
   "execution_count": null,
   "id": "conservative-effectiveness",
   "metadata": {},
   "outputs": [
    {
     "name": "stdout",
     "output_type": "stream",
     "text": [
      "m of C called\n"
     ]
    }
   ],
   "source": [
    "C.m(x)\n"
   ]
  },
  {
   "cell_type": "code",
   "execution_count": null,
   "id": "nearby-retrieval",
   "metadata": {},
   "outputs": [
    {
     "name": "stdout",
     "output_type": "stream",
     "text": [
      "m of A called\n"
     ]
    }
   ],
   "source": [
    "A.m(x)\n"
   ]
  },
  {
   "cell_type": "code",
   "execution_count": null,
   "id": "cheap-polymer",
   "metadata": {},
   "outputs": [
    {
     "data": {
      "text/plain": [
       "[__main__.A, object]"
      ]
     },
     "execution_count": 90,
     "metadata": {},
     "output_type": "execute_result"
    }
   ],
   "source": [
    "A.mro()"
   ]
  },
  {
   "cell_type": "markdown",
   "id": "median-spice",
   "metadata": {},
   "source": [
    "### Ejemplo 2. El método m() en la clase D se sobreescribe y además llama a los de las superclases."
   ]
  },
  {
   "cell_type": "code",
   "execution_count": null,
   "id": "ruled-bahrain",
   "metadata": {},
   "outputs": [],
   "source": [
    "class A:\n",
    "    def m(self):\n",
    "        print(\"m of A called\")\n",
    "\n",
    "class B(A):\n",
    "    def m(self):\n",
    "        print(\"m of B called\")\n",
    "        A.m(self)\n",
    "    \n",
    "class C(A):\n",
    "    def m(self):\n",
    "        print(\"m of C called\")\n",
    "        A.m(self)\n",
    "\n",
    "'''class D(B,C):\n",
    "    def m(self):\n",
    "        print(\"m of D called\")\n",
    "        B.m(self)\n",
    "        C.m(self)\n",
    "'''\n",
    "class D(B,C):\n",
    "    def m(self):\n",
    "        print(\"m of D called\")\n",
    "        B.m(self)\n",
    "        C.m(self)\n",
    "        A.m(self)"
   ]
  },
  {
   "cell_type": "code",
   "execution_count": null,
   "id": "legal-parent",
   "metadata": {},
   "outputs": [
    {
     "name": "stdout",
     "output_type": "stream",
     "text": [
      "m of D called\n",
      "m of B called\n",
      "m of A called\n",
      "m of C called\n",
      "m of A called\n",
      "m of A called\n"
     ]
    }
   ],
   "source": [
    "x =D()\n",
    "x.m()"
   ]
  },
  {
   "cell_type": "markdown",
   "id": "significant-mining",
   "metadata": {},
   "source": [
    "### Ejemplo 3. El método m() en la clase D se sobreescribe usando super()"
   ]
  },
  {
   "cell_type": "markdown",
   "id": "brilliant-winter",
   "metadata": {},
   "source": [
    "La siguiente solución evita el problema del diamante usando el método super() que llama al método del mismo nombre de la superclase y evita duplicados"
   ]
  },
  {
   "cell_type": "code",
   "execution_count": null,
   "id": "standing-aviation",
   "metadata": {},
   "outputs": [],
   "source": [
    "class A:\n",
    "    def m(self):\n",
    "        print(\"m of A called\")\n",
    "\n",
    "class B(A):\n",
    "    def m(self):\n",
    "        print(\"m of B called\")\n",
    "        super().m() # para ejecutar m() de las superclases usando MRO\n",
    "    \n",
    "class C(A):\n",
    "    def m(self):\n",
    "        print(\"m of C called\")\n",
    "        super().m()      # para ejecutar m() de las superclases usando MRO\n",
    "\n",
    "class D(B,C):\n",
    "    def m(self):\n",
    "        print(\"m of D called\")\n",
    "        super().m() # para ejecutar m() de las superclases usando MRO\n"
   ]
  },
  {
   "cell_type": "code",
   "execution_count": null,
   "id": "honest-gambling",
   "metadata": {},
   "outputs": [
    {
     "name": "stdout",
     "output_type": "stream",
     "text": [
      "m of A called\n"
     ]
    }
   ],
   "source": [
    "a1 =A()\n",
    "a1.m()"
   ]
  },
  {
   "cell_type": "code",
   "execution_count": null,
   "id": "atmospheric-miracle",
   "metadata": {},
   "outputs": [
    {
     "name": "stdout",
     "output_type": "stream",
     "text": [
      "m of B called\n",
      "m of A called\n"
     ]
    }
   ],
   "source": [
    "b1 =B()\n",
    "b1.m()"
   ]
  },
  {
   "cell_type": "code",
   "execution_count": null,
   "id": "buried-texas",
   "metadata": {},
   "outputs": [
    {
     "name": "stdout",
     "output_type": "stream",
     "text": [
      "m of C called\n",
      "m of A called\n"
     ]
    }
   ],
   "source": [
    "c1 =C()\n",
    "c1.m()"
   ]
  },
  {
   "cell_type": "code",
   "execution_count": null,
   "id": "local-prior",
   "metadata": {},
   "outputs": [
    {
     "name": "stdout",
     "output_type": "stream",
     "text": [
      "m of D called\n",
      "m of B called\n",
      "m of C called\n",
      "m of A called\n"
     ]
    }
   ],
   "source": [
    "d1 =D()\n",
    "d1.m()"
   ]
  },
  {
   "cell_type": "markdown",
   "id": "medium-shareware",
   "metadata": {},
   "source": [
    "### super() aplicado al inicializador"
   ]
  },
  {
   "cell_type": "code",
   "execution_count": null,
   "id": "fancy-barcelona",
   "metadata": {},
   "outputs": [],
   "source": [
    "class A:\n",
    "    def __init__(self):\n",
    "        print(\"A.__init__\")\n",
    "\n",
    "class B(A):\n",
    "    def __init__(self):\n",
    "        print(\"B.__init__\")\n",
    "        super().__init__()\n",
    "    \n",
    "class C(A):\n",
    "    def __init__(self):\n",
    "        print(\"C.__init__\")\n",
    "        super().__init__()\n",
    "\n",
    "class D(B,C):\n",
    "    def __init__(self):\n",
    "        print(\"D.__init__\")\n",
    "        super().__init__()"
   ]
  },
  {
   "cell_type": "code",
   "execution_count": null,
   "id": "curious-chester",
   "metadata": {},
   "outputs": [
    {
     "data": {
      "text/plain": [
       "[__main__.D, __main__.B, __main__.C, __main__.A, object]"
      ]
     },
     "execution_count": 99,
     "metadata": {},
     "output_type": "execute_result"
    }
   ],
   "source": [
    "D.mro()"
   ]
  },
  {
   "cell_type": "markdown",
   "id": "dutch-creek",
   "metadata": {},
   "source": [
    "### Atributo\n",
    "Recuerde que '\\__ main \\__' es el nombre del ámbito en el que se ejecuta el código de nivel superior. "
   ]
  },
  {
   "cell_type": "code",
   "execution_count": null,
   "id": "federal-denmark",
   "metadata": {},
   "outputs": [
    {
     "name": "stdout",
     "output_type": "stream",
     "text": [
      "B.__init__\n",
      "A.__init__\n"
     ]
    },
    {
     "data": {
      "text/plain": [
       "<__main__.B at 0x1988e090b80>"
      ]
     },
     "execution_count": 100,
     "metadata": {},
     "output_type": "execute_result"
    }
   ],
   "source": [
    "b1 = B()\n",
    "b1"
   ]
  },
  {
   "cell_type": "code",
   "execution_count": null,
   "id": "decreased-control",
   "metadata": {},
   "outputs": [
    {
     "name": "stdout",
     "output_type": "stream",
     "text": [
      "D.__init__\n",
      "B.__init__\n",
      "C.__init__\n",
      "A.__init__\n"
     ]
    },
    {
     "data": {
      "text/plain": [
       "<__main__.D at 0x1988e17d480>"
      ]
     },
     "execution_count": 101,
     "metadata": {},
     "output_type": "execute_result"
    }
   ],
   "source": [
    "d1 =D()\n",
    "d1"
   ]
  },
  {
   "cell_type": "markdown",
   "id": "talented-bloom",
   "metadata": {},
   "source": [
    "## Ejemplo de clases Contact, AddressHolder y Friend con herencia múltiple\n",
    "\n",
    "\n",
    "+ Se usan parámetros de tipo keyword y parámetro flexible **kwargs"
   ]
  },
  {
   "cell_type": "code",
   "execution_count": null,
   "id": "harmful-fabric",
   "metadata": {},
   "outputs": [],
   "source": [
    "class Contact:\n",
    "    # Esto no es un buen diseño. Solo sirve para el ejemplo, pero en la realidad no debe hacerse\n",
    "    all_contacts = []   # Atributo de clase. Es una lista de contactos con todos los objetos de tipo Contact\n",
    "    \n",
    "    def __init__(self, name=None, email=None, **kwargs):\n",
    "        super().__init__(**kwargs)\n",
    "        self.name = name\n",
    "        self.email = email\n",
    "        self.all_contacts.append(self)\n",
    "        \n",
    "class AddressHolder:\n",
    "    def __init__(self, street=None, city=None, state=None, code=None, **kwargs):\n",
    "        super().__init__(**kwargs)\n",
    "        self.street = street\n",
    "        self.city = city\n",
    "        self.state = state\n",
    "        self.code = code\n",
    "\n",
    "class Friend(Contact, AddressHolder):\n",
    "    def __init__(self, phone='', **kwargs):\n",
    "        super().__init__(**kwargs)\n",
    "        self.phone = phone\n"
   ]
  },
  {
   "cell_type": "code",
   "execution_count": null,
   "id": "suburban-magazine",
   "metadata": {},
   "outputs": [],
   "source": [
    "c = Contact('Ana','ana@iteso.mx')\n",
    "ah = AddressHolder('M Otero','Gdl','Jal',45070)\n"
   ]
  },
  {
   "cell_type": "code",
   "execution_count": null,
   "id": "secondary-cornwall",
   "metadata": {},
   "outputs": [],
   "source": [
    "# No importa el orden de los argumentos porque son palabras clave\n",
    "f = Friend(phone =45070,name ='Pepe',email ='pepe@iteso.mx',street ='LMateos',city ='Gdl',state ='Jal')"
   ]
  },
  {
   "cell_type": "code",
   "execution_count": null,
   "id": "subsequent-projection",
   "metadata": {},
   "outputs": [
    {
     "name": "stdout",
     "output_type": "stream",
     "text": [
      "Ana\n",
      "Pepe\n"
     ]
    }
   ],
   "source": [
    "for i in c.all_contacts:\n",
    "    print(i.name)"
   ]
  },
  {
   "cell_type": "markdown",
   "id": "cellular-brother",
   "metadata": {},
   "source": [
    "+ Si se elimina un objeto contacto, deberá quitarse de la lista. Si no programa esa acción provocará un error.\n",
    "+ Lo correcto es primero eliminarlo de la lista y después destruirlo"
   ]
  },
  {
   "cell_type": "code",
   "execution_count": null,
   "id": "preliminary-genealogy",
   "metadata": {},
   "outputs": [],
   "source": [
    "Contact.all_contacts.remove(c)"
   ]
  },
  {
   "cell_type": "code",
   "execution_count": null,
   "id": "cutting-resident",
   "metadata": {},
   "outputs": [
    {
     "name": "stdout",
     "output_type": "stream",
     "text": [
      "Pepe\n"
     ]
    }
   ],
   "source": [
    "for i in c.all_contacts:\n",
    "    print(i.name)\n",
    "# Ya no está el objeto c en la lista"
   ]
  },
  {
   "cell_type": "code",
   "execution_count": null,
   "id": "actual-tenant",
   "metadata": {},
   "outputs": [
    {
     "data": {
      "text/plain": [
       "'Ana'"
      ]
     },
     "execution_count": 108,
     "metadata": {},
     "output_type": "execute_result"
    }
   ],
   "source": [
    "# Pero sigue existiendo el objeto c\n",
    "c.name"
   ]
  },
  {
   "cell_type": "code",
   "execution_count": null,
   "id": "mounted-meeting",
   "metadata": {},
   "outputs": [],
   "source": [
    "# Se elimina el objeto c\n",
    "del c"
   ]
  },
  {
   "cell_type": "code",
   "execution_count": null,
   "id": "white-lotus",
   "metadata": {},
   "outputs": [
    {
     "name": "stdout",
     "output_type": "stream",
     "text": [
      "name 'c' is not defined\n"
     ]
    }
   ],
   "source": [
    "try:\n",
    "    c.name\n",
    "except Exception as e:\n",
    "    print(e)"
   ]
  },
  {
   "cell_type": "markdown",
   "id": "greater-passage",
   "metadata": {},
   "source": [
    "## Ejemplo que resalta el polimorfismo"
   ]
  },
  {
   "cell_type": "code",
   "execution_count": null,
   "id": "jewish-publisher",
   "metadata": {},
   "outputs": [],
   "source": [
    "class Shark():\n",
    "    def swim(self):\n",
    "        print(\"The shark is swimming.\")\n",
    "\n",
    "    def swim_backwards(self):\n",
    "        print(\"The shark cannot swim backwards, but can sink backwards.\")\n",
    "\n",
    "    def skeleton(self):\n",
    "        print(\"The shark's skeleton is made of cartilage.\")\n",
    "\n",
    "\n",
    "class Clownfish():\n",
    "    def swim(self):\n",
    "        print(\"The clownfish is swimming.\")\n",
    "\n",
    "    def swim_backwards(self):\n",
    "        print(\"The clownfish can swim backwards.\")\n",
    "\n",
    "    def skeleton(self):\n",
    "        print(\"The clownfish's skeleton is made of bone.\")"
   ]
  },
  {
   "cell_type": "code",
   "execution_count": null,
   "id": "olive-romantic",
   "metadata": {},
   "outputs": [],
   "source": [
    "sammy = Shark()\n",
    "casey = Clownfish()\n",
    "\n",
    "# fish se instancia con un objeto de la clase Shark y con otro de la clase Clownfish\n",
    "# Se ejecutan los métodos correspondientes\n",
    "for fish in (sammy, casey):\n",
    "    fish.swim()\n",
    "    fish.swim_backwards()\n",
    "    fish.skeleton()\n"
   ]
  },
  {
   "cell_type": "code",
   "execution_count": null,
   "id": "atomic-welsh",
   "metadata": {},
   "outputs": [],
   "source": []
  }
 ],
 "metadata": {
  "kernelspec": {
   "display_name": "Python 3 (ipykernel)",
   "language": "python",
   "name": "python3"
  },
  "language_info": {
   "codemirror_mode": {
    "name": "ipython",
    "version": 3
   },
   "file_extension": ".py",
   "mimetype": "text/x-python",
   "name": "python",
   "nbconvert_exporter": "python",
   "pygments_lexer": "ipython3",
   "version": "3.11.6"
  }
 },
 "nbformat": 4,
 "nbformat_minor": 5
}
