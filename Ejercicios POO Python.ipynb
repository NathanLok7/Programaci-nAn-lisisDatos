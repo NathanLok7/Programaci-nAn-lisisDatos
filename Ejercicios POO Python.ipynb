{
 "cells": [
  {
   "cell_type": "markdown",
   "id": "92378b01",
   "metadata": {},
   "source": [
    "# Programación para Analítica de Datos\n",
    "\n",
    "## Mtra. Gisel Hernández Chávez\n",
    "\n",
    "Ejercicios basados en los planeado en el capítulo 10 del libro Starting out with Python, 3ra edición de Tony Gaddis"
   ]
  },
  {
   "cell_type": "code",
   "execution_count": 1,
   "id": "88e3e0e3",
   "metadata": {},
   "outputs": [],
   "source": [
    "from IPython.core.interactiveshell import InteractiveShell\n",
    "InteractiveShell.ast_node_interactivity = \"all\""
   ]
  },
  {
   "cell_type": "markdown",
   "id": "514a20cb",
   "metadata": {},
   "source": [
    "## Algorithm Workbench\n",
    "1. Suppose my_car is the name of a variable that references an object, and go is the name\n",
    "of a method. Write a statement that uses the my_car variable to call the go method.\n",
    "(You do not have to pass any arguments to the go method.)\n",
    "2. Write a class definition named Book. The Book class should have data attributes for a\n",
    "book’s title, the author’s name, and the publisher’s name. The class should also have the\n",
    "following:\n",
    "a. An _ _init_ _ method for the class. The method should accept an argument for each\n",
    "of the data attributes.\n",
    "b. Accessor and mutator methods for each data attribute.\n",
    "c. An _ _str_ _ method that returns a string indicating the state of the object.\n",
    "3. Look at the following description of a problem domain:\n",
    "The bank offers the following types of accounts to its customers: savings accounts,\n",
    "checking accounts, and money market accounts. Customers are allowed to deposit\n",
    "money into an account (thereby increasing its balance), withdraw money from an\n",
    "account (thereby decreasing its balance), and earn interest on the account. Each\n",
    "account has an interest rate.\n",
    "Assume that you are writing a program that will calculate the amount of interest earned\n",
    "for a bank account.\n",
    "a. Identify the potential classes in this problem domain.\n",
    "b. Refine the list to include only the necessary class or classes for this problem.\n",
    "c. Identify the responsibilities of the class or classes.\n"
   ]
  },
  {
   "cell_type": "code",
   "execution_count": 2,
   "id": "a5f0d3cc",
   "metadata": {},
   "outputs": [
    {
     "name": "stdout",
     "output_type": "stream",
     "text": [
      "Se ejecutó go()\n"
     ]
    }
   ],
   "source": [
    "# Ejercicio 1\n",
    "class Car:\n",
    "    # método de instancia\n",
    "    \n",
    "    def go(self):\n",
    "        print('Se ejecutó go()')\n",
    "\n",
    "my_car = Car()\n",
    "my_car.go()  # se llama al método go() del objeto my_car de la clase Car"
   ]
  },
  {
   "cell_type": "code",
   "execution_count": 3,
   "id": "f702597f",
   "metadata": {},
   "outputs": [
    {
     "name": "stdout",
     "output_type": "stream",
     "text": [
      "El título es  quijote , el nombre del autor es Cervantes, y el nombre del publicista es Limusa\n"
     ]
    }
   ],
   "source": [
    "# Ejercicio 2\n",
    "class Book:\n",
    "    \n",
    "    def __init__(self, title,a_name,p_name):\n",
    "        self.set_title(title)    ## inicia con dunder para indicar que se tratará como atributo privado\n",
    "        self.__a_name = a_name\n",
    "        self.__p_name = p_name\n",
    "        \n",
    "    def get_title(self):         # método de acceso\n",
    "        return self.__title\n",
    "    \n",
    "    def set_title(self,title):   # método mutador\n",
    "        \n",
    "        self.__title = title.lower()\n",
    "        \n",
    "    def get_a_name(self):    \n",
    "        return self.__a_name\n",
    "    \n",
    "    def set_a_name(self,a_name):\n",
    "        self.__a_name = a_name\n",
    "        \n",
    "    def get_title(self):\n",
    "        return self.__p_name\n",
    "    \n",
    "    def set_p_name(self,p_name):\n",
    "        self.__p_name = p_name\n",
    "        \n",
    "    def __str__(self):\n",
    "        tit = 'El título es '\n",
    "        aut = 'el nombre del autor es'\n",
    "        pub = 'y el nombre del publicista es'\n",
    "        return '{} {} , {} {}, {} {}'.format(tit,self.__title, aut,self.__a_name,pub,self.__p_name)\n",
    "    \n",
    "b = Book('Quijote','Cervantes','Limusa') \n",
    "print(b)"
   ]
  },
  {
   "cell_type": "code",
   "execution_count": 4,
   "id": "e36b34c4",
   "metadata": {},
   "outputs": [
    {
     "data": {
      "text/plain": [
       "['_Book__a_name',\n",
       " '_Book__p_name',\n",
       " '_Book__title',\n",
       " '__class__',\n",
       " '__delattr__',\n",
       " '__dict__',\n",
       " '__dir__',\n",
       " '__doc__',\n",
       " '__eq__',\n",
       " '__format__',\n",
       " '__ge__',\n",
       " '__getattribute__',\n",
       " '__getstate__',\n",
       " '__gt__',\n",
       " '__hash__',\n",
       " '__init__',\n",
       " '__init_subclass__',\n",
       " '__le__',\n",
       " '__lt__',\n",
       " '__module__',\n",
       " '__ne__',\n",
       " '__new__',\n",
       " '__reduce__',\n",
       " '__reduce_ex__',\n",
       " '__repr__',\n",
       " '__setattr__',\n",
       " '__sizeof__',\n",
       " '__str__',\n",
       " '__subclasshook__',\n",
       " '__weakref__',\n",
       " 'get_a_name',\n",
       " 'get_title',\n",
       " 'set_a_name',\n",
       " 'set_p_name',\n",
       " 'set_title']"
      ]
     },
     "execution_count": 4,
     "metadata": {},
     "output_type": "execute_result"
    }
   ],
   "source": [
    "dir(b)"
   ]
  },
  {
   "cell_type": "code",
   "execution_count": 5,
   "id": "95f73d02",
   "metadata": {},
   "outputs": [],
   "source": [
    "c = Book('LA GUERRA Y LA PAZ','Tolstoy','ed')"
   ]
  },
  {
   "cell_type": "code",
   "execution_count": 6,
   "id": "f4906679",
   "metadata": {},
   "outputs": [
    {
     "name": "stdout",
     "output_type": "stream",
     "text": [
      "El título es  la guerra y la paz , el nombre del autor es Tolstoy, y el nombre del publicista es ed\n"
     ]
    }
   ],
   "source": [
    "print(c)"
   ]
  },
  {
   "cell_type": "code",
   "execution_count": 7,
   "id": "2486662a",
   "metadata": {},
   "outputs": [],
   "source": [
    "# Ejercicio 3\n",
    "\n",
    "class Account:\n",
    "    \n",
    "    def __init__(self, amount, int_rate=0.04, interest = 0):\n",
    "        # por defecto se asume interés del 4% y que no han generado intereses\n",
    "        self.__balance = amount     # Atributo privado\n",
    "        self._interest_rate = int_rate   # Atributo protegido por si las clase hijos lo requieren manipular\n",
    "        self.__interest = interest  # es un dato calculado y que se acumula\n",
    "    \n",
    "    def get_balance(self):    \n",
    "        return self.__balance\n",
    "    \n",
    "    # No tiene sentido tener un método set para balance\n",
    "    # a no ser que se agregue y se le puedan pasar cantidades positivas o negativas\n",
    "    # ya validadas y se llame desde los métodos que depositan, retiran y adicionan interés\n",
    "    \n",
    "    def get_interest_rate(self):    \n",
    "        return self._interest_rate\n",
    "    \n",
    "    def set_interest_rate(self,int_rate):  # por si cambia el interés  \n",
    "        self._interest_rate = int_rate\n",
    "    \n",
    "    def get_interest(self):    \n",
    "        return self.__interest\n",
    "    \n",
    "    def set_interest(self,interest):    \n",
    "        self.__interest += interest\n",
    "        \n",
    "    def deposit(self, amount):\n",
    "        self.__balance += amount\n",
    "    \n",
    "    def withdraw(self,amount):\n",
    "        if self.__balance < amount:\n",
    "            print('Saldo insuficiente. Puede disponer de hasta {}'.self.__balance)\n",
    "        else:\n",
    "            self.__balance -= amount\n",
    "    \n",
    "    def earn_interest(self):\n",
    "        interest = self.__balance * self._interest_rate\n",
    "        self.set_interest(interest)\n",
    "        self.__balance = self.__balance + interest\n",
    "    \n",
    "# Las siguientes clases no son necesarias con los requisitos planteados\n",
    "# Se pueden dejar como stubs\n",
    "class Saving(Account):\n",
    "    pass # “move along, nothing to see here”\n",
    "    \n",
    "\n",
    "class Checking(Account):\n",
    "    # Esta cuenta no genera intereses; se construye al objeto cambiando interest_rate por 0\n",
    "    pass\n",
    "\n",
    "class MoneyMarket(Account):\n",
    "    # Esta cuenta genera intereses diferentes a las de débito; se construye al objeto cambiando\n",
    "    # valor por defecto de interest_rate\n",
    "    pass\n"
   ]
  },
  {
   "cell_type": "code",
   "execution_count": 8,
   "id": "40d00083",
   "metadata": {},
   "outputs": [
    {
     "data": {
      "text/plain": [
       "2280.0"
      ]
     },
     "execution_count": 8,
     "metadata": {},
     "output_type": "execute_result"
    }
   ],
   "source": [
    "57000*.04\n"
   ]
  },
  {
   "cell_type": "code",
   "execution_count": 9,
   "id": "357bfc5b",
   "metadata": {},
   "outputs": [
    {
     "data": {
      "text/plain": [
       "('saldo: 2000', 'interés: 0')"
      ]
     },
     "execution_count": 9,
     "metadata": {},
     "output_type": "execute_result"
    },
    {
     "data": {
      "text/plain": [
       "'saldo: 62000'"
      ]
     },
     "execution_count": 9,
     "metadata": {},
     "output_type": "execute_result"
    },
    {
     "data": {
      "text/plain": [
       "'saldo: 57000'"
      ]
     },
     "execution_count": 9,
     "metadata": {},
     "output_type": "execute_result"
    },
    {
     "data": {
      "text/plain": [
       "('saldo: 59280.0', 'interés: 2280.0')"
      ]
     },
     "execution_count": 9,
     "metadata": {},
     "output_type": "execute_result"
    }
   ],
   "source": [
    "# Se abre cuenta con 2000 pesos\n",
    "ana = Saving(2000)\n",
    "'saldo: {}'.format(ana.get_balance()), 'interés: {}'.format(ana.get_interest())\n",
    "\n",
    "# Deposita 60000\n",
    "ana.deposit(60000)\n",
    "'saldo: {}'.format(ana.get_balance())\n",
    "\n",
    "# Retira 5000\n",
    "ana. withdraw(5000)\n",
    "'saldo: {}'.format(ana.get_balance())\n",
    "\n",
    "# Al mes se calculan intereses y se actualiza saldo\n",
    "ana.earn_interest()\n",
    "'saldo: {}'.format(ana.get_balance()), 'interés: {}'.format(ana.get_interest())"
   ]
  },
  {
   "cell_type": "markdown",
   "id": "4082ba37",
   "metadata": {},
   "source": [
    "## Ejercicio adicional\n",
    "\n",
    "Hacer persistente a un objeto empleando __serialización y deserialización__.\n",
    "\n",
    "1. Adicione un atributo fecha y hora a la clase Account que se actualice después de cada movimiento en la cuenta.\n",
    "2. Adicione el método \\__str\\__ () a Account para que imprima el estado del objeto\n",
    "3. Adicione un método en Account para guardar el objeto en memoria y otro para recuperarlo.\n",
    "4. Guarde en memoria externa el objeto ana. Use pickling.\n",
    "5. Recupere de la memoria externa al objeto y colóquelo en ana1\n",
    "6. Actualice el saldo de ana1 con un depósito de 20,000 y calcule intereses. Guarde ana1 en memoria\n",
    "7. Lea ana y ana1 y colóquelos en un DataFrame de pandas"
   ]
  },
  {
   "cell_type": "markdown",
   "id": "4a2e37a9",
   "metadata": {},
   "source": [
    "El módulo pickle proporciona funciones para serializar objetos.\n",
    "\n",
    "__Serializar__ un objeto significa convertirlo en un flujo de bytes que se puede guardar en un archivo para su posterior recuperación. La función _dump()_ del módulo pickle serializa (pickle) un objeto y lo escribe en un archivo, y la función _load()_ recupera un objeto de un archivo y lo __deserializa__ (unpickle)."
   ]
  },
  {
   "cell_type": "code",
   "execution_count": 10,
   "id": "7519c143",
   "metadata": {},
   "outputs": [],
   "source": [
    "from datetime import datetime\n",
    "import pickle\n",
    "\n",
    "class Account:\n",
    "    \n",
    "    def __init__(self, amount, int_rate=0.04, interest = 0):\n",
    "        # por defecto se asume interés del 4% y que no han generado intereses\n",
    "        self.__balance = amount     # Atributo privado\n",
    "        self._interest_rate = int_rate   # Atributo protegido por si las clase hijos lo requieren manipular\n",
    "        self.__interest = interest  # es un dato calculado y que se acumula\n",
    "        self.__time = datetime.now()\n",
    "    \n",
    "    def __str__(self):\n",
    "        return 'saldo: {} \\n interés acumulado: {} \\n fecha y hora: {}\\n '.format(self.get_balance(),\n",
    "                                                                               self.get_interest(),\n",
    "                                                                               self.get_time())         \n",
    "    def get_balance(self):    \n",
    "        return self.__balance\n",
    "    \n",
    "    # No tiene sentido tener un método set para balance\n",
    "    \n",
    "    def get_interest_rate(self):    \n",
    "        return self._interest_rate\n",
    "    \n",
    "    def set_interest_rate(self,int_rate):  # por si cambia el interés  \n",
    "        self._interest_rate = int_rate\n",
    "    \n",
    "    def get_interest(self):    \n",
    "        return self.__interest\n",
    "    \n",
    "    def set_interest(self,interest):    \n",
    "        self.__interest += interest\n",
    "        \n",
    "    def get_time(self):\n",
    "        return self.__time\n",
    "        \n",
    "    def deposit(self, amount):\n",
    "        self.__balance += amount\n",
    "        self.__time = datetime.now()\n",
    "    \n",
    "    def withdraw(self,amount):\n",
    "        if self.__balance < amount:\n",
    "            print('Saldo insuficiente. Puede disponer de hasta {}'.self.__balance)\n",
    "        else:\n",
    "            self.__balance -= amount\n",
    "            self.__time = datetime.now()\n",
    "    \n",
    "    def earn_interest(self):\n",
    "        interest = self.__balance * self._interest_rate\n",
    "        self.set_interest(interest)\n",
    "        self.__balance = self.__balance + interest\n",
    "        self.__time = datetime.now()\n",
    "        \n",
    "    def guarda(self,ruta,fn):\n",
    "        with open(ruta+fn,'wb') as f:\n",
    "            pickle.dump(self,f)\n",
    "            \n",
    "    def recupera(self,ruta,fn):\n",
    "        with open(ruta+fn,'rb') as f:\n",
    "            objeto = pickle.load(f)\n",
    "            return objeto \n",
    "    \n",
    "    def __del__(self):\n",
    "        print('Se borró la cuenta, por lo que se ejecutó el destructor.')"
   ]
  },
  {
   "cell_type": "code",
   "execution_count": 11,
   "id": "130eb7ac",
   "metadata": {},
   "outputs": [
    {
     "name": "stdout",
     "output_type": "stream",
     "text": [
      "<__main__.Saving object at 0x0000023279BD96D0>\n",
      "Atributos de la cuenta <__main__.Saving object at 0x0000023279BD96D0>\n",
      "\n"
     ]
    }
   ],
   "source": [
    "# Se abre cuenta con 2000 pesos\n",
    "ana = Saving(2000)\n",
    "print(ana)\n",
    "print('Atributos de la cuenta {}\\n'.format(ana))\n",
    "\n",
    "# ana se debe crear de la clase Account o refefinir __str__() en la clase hija Saving"
   ]
  },
  {
   "cell_type": "code",
   "execution_count": 12,
   "id": "334f0133",
   "metadata": {},
   "outputs": [
    {
     "name": "stdout",
     "output_type": "stream",
     "text": [
      "saldo: 2000 \n",
      " interés acumulado: 0 \n",
      " fecha y hora: 2023-11-15 10:11:26.197310\n",
      " \n"
     ]
    }
   ],
   "source": [
    "ana =Account(2000)\n",
    "print(ana)"
   ]
  },
  {
   "cell_type": "code",
   "execution_count": 13,
   "id": "54c3b90d",
   "metadata": {},
   "outputs": [
    {
     "name": "stdout",
     "output_type": "stream",
     "text": [
      "saldo: 62000 \n",
      " interés acumulado: 0 \n",
      " fecha y hora: 2023-11-15 10:11:26.210430\n",
      " \n"
     ]
    },
    {
     "name": "stdout",
     "output_type": "stream",
     "text": [
      "saldo: 57000 \n",
      " interés acumulado: 0 \n",
      " fecha y hora: 2023-11-15 10:11:28.212077\n",
      " \n",
      "saldo: 59280.0 \n",
      " interés acumulado: 2280.0 \n",
      " fecha y hora: 2023-11-15 10:11:30.212898\n",
      " \n"
     ]
    }
   ],
   "source": [
    "from time import sleep\n",
    "\n",
    "# Deposita 60000\n",
    "ana.deposit(60000)\n",
    "print(ana)\n",
    "\n",
    "# Retira 5000\n",
    "sleep(2)      # espera 2 segundos\n",
    "ana. withdraw(5000)\n",
    "print(ana)\n",
    "\n",
    "# Al mes se calculan intereses y se actualiza saldo\n",
    "sleep(2)\n",
    "ana.earn_interest()\n",
    "print(ana)"
   ]
  },
  {
   "cell_type": "code",
   "execution_count": 14,
   "id": "559ada19",
   "metadata": {},
   "outputs": [
    {
     "ename": "FileNotFoundError",
     "evalue": "[Errno 2] No such file or directory: 'C:\\\\Users\\\\ghernand\\\\Documents\\\\ProgramacionAnaliticaDatos\\\\P2022\\\\ana_account.dat'",
     "output_type": "error",
     "traceback": [
      "\u001b[1;31m---------------------------------------------------------------------------\u001b[0m",
      "\u001b[1;31mFileNotFoundError\u001b[0m                         Traceback (most recent call last)",
      "\u001b[1;32mc:\\Users\\Nathan\\OneDrive\\Escritorio\\Progra\\Programación para análisis de datos\\Ejercicios POO Python.ipynb Celda 18\u001b[0m line \u001b[0;36m9\n\u001b[0;32m      <a href='vscode-notebook-cell:/c%3A/Users/Nathan/OneDrive/Escritorio/Progra/Programaci%C3%B3n%20para%20an%C3%A1lisis%20de%20datos/Ejercicios%20POO%20Python.ipynb#X23sZmlsZQ%3D%3D?line=5'>6</a>\u001b[0m FILENAME \u001b[39m=\u001b[39m \u001b[39m'\u001b[39m\u001b[39mana_account.dat\u001b[39m\u001b[39m'\u001b[39m\n\u001b[0;32m      <a href='vscode-notebook-cell:/c%3A/Users/Nathan/OneDrive/Escritorio/Progra/Programaci%C3%B3n%20para%20an%C3%A1lisis%20de%20datos/Ejercicios%20POO%20Python.ipynb#X23sZmlsZQ%3D%3D?line=7'>8</a>\u001b[0m \u001b[39m#pickle.dump(ana, ruta + FILENAME)\u001b[39;00m\n\u001b[1;32m----> <a href='vscode-notebook-cell:/c%3A/Users/Nathan/OneDrive/Escritorio/Progra/Programaci%C3%B3n%20para%20an%C3%A1lisis%20de%20datos/Ejercicios%20POO%20Python.ipynb#X23sZmlsZQ%3D%3D?line=8'>9</a>\u001b[0m ana\u001b[39m.\u001b[39;49mguarda(ruta,FILENAME)\n",
      "\u001b[1;32mc:\\Users\\Nathan\\OneDrive\\Escritorio\\Progra\\Programación para análisis de datos\\Ejercicios POO Python.ipynb Celda 18\u001b[0m line \u001b[0;36m5\n\u001b[0;32m     <a href='vscode-notebook-cell:/c%3A/Users/Nathan/OneDrive/Escritorio/Progra/Programaci%C3%B3n%20para%20an%C3%A1lisis%20de%20datos/Ejercicios%20POO%20Python.ipynb#X23sZmlsZQ%3D%3D?line=53'>54</a>\u001b[0m \u001b[39mdef\u001b[39;00m \u001b[39mguarda\u001b[39m(\u001b[39mself\u001b[39m,ruta,fn):\n\u001b[1;32m---> <a href='vscode-notebook-cell:/c%3A/Users/Nathan/OneDrive/Escritorio/Progra/Programaci%C3%B3n%20para%20an%C3%A1lisis%20de%20datos/Ejercicios%20POO%20Python.ipynb#X23sZmlsZQ%3D%3D?line=54'>55</a>\u001b[0m     \u001b[39mwith\u001b[39;00m \u001b[39mopen\u001b[39;49m(ruta\u001b[39m+\u001b[39;49mfn,\u001b[39m'\u001b[39;49m\u001b[39mwb\u001b[39;49m\u001b[39m'\u001b[39;49m) \u001b[39mas\u001b[39;00m f:\n\u001b[0;32m     <a href='vscode-notebook-cell:/c%3A/Users/Nathan/OneDrive/Escritorio/Progra/Programaci%C3%B3n%20para%20an%C3%A1lisis%20de%20datos/Ejercicios%20POO%20Python.ipynb#X23sZmlsZQ%3D%3D?line=55'>56</a>\u001b[0m         pickle\u001b[39m.\u001b[39mdump(\u001b[39mself\u001b[39m,f)\n",
      "File \u001b[1;32m~\\AppData\\Local\\Packages\\PythonSoftwareFoundation.Python.3.11_qbz5n2kfra8p0\\LocalCache\\local-packages\\Python311\\site-packages\\IPython\\core\\interactiveshell.py:284\u001b[0m, in \u001b[0;36m_modified_open\u001b[1;34m(file, *args, **kwargs)\u001b[0m\n\u001b[0;32m    277\u001b[0m \u001b[39mif\u001b[39;00m file \u001b[39min\u001b[39;00m {\u001b[39m0\u001b[39m, \u001b[39m1\u001b[39m, \u001b[39m2\u001b[39m}:\n\u001b[0;32m    278\u001b[0m     \u001b[39mraise\u001b[39;00m \u001b[39mValueError\u001b[39;00m(\n\u001b[0;32m    279\u001b[0m         \u001b[39mf\u001b[39m\u001b[39m\"\u001b[39m\u001b[39mIPython won\u001b[39m\u001b[39m'\u001b[39m\u001b[39mt let you open fd=\u001b[39m\u001b[39m{\u001b[39;00mfile\u001b[39m}\u001b[39;00m\u001b[39m by default \u001b[39m\u001b[39m\"\u001b[39m\n\u001b[0;32m    280\u001b[0m         \u001b[39m\"\u001b[39m\u001b[39mas it is likely to crash IPython. If you know what you are doing, \u001b[39m\u001b[39m\"\u001b[39m\n\u001b[0;32m    281\u001b[0m         \u001b[39m\"\u001b[39m\u001b[39myou can use builtins\u001b[39m\u001b[39m'\u001b[39m\u001b[39m open.\u001b[39m\u001b[39m\"\u001b[39m\n\u001b[0;32m    282\u001b[0m     )\n\u001b[1;32m--> 284\u001b[0m \u001b[39mreturn\u001b[39;00m io_open(file, \u001b[39m*\u001b[39;49margs, \u001b[39m*\u001b[39;49m\u001b[39m*\u001b[39;49mkwargs)\n",
      "\u001b[1;31mFileNotFoundError\u001b[0m: [Errno 2] No such file or directory: 'C:\\\\Users\\\\ghernand\\\\Documents\\\\ProgramacionAnaliticaDatos\\\\P2022\\\\ana_account.dat'"
     ]
    }
   ],
   "source": [
    "import pickle\n",
    "\n",
    "\n",
    "ruta = \"C:\\\\Users\\\\ghernand\\\\Documents\\\\ProgramacionAnaliticaDatos\\\\P2022\\\\\"\n",
    "\n",
    "FILENAME = 'ana_account.dat'\n",
    "\n",
    "#pickle.dump(ana, ruta + FILENAME)\n",
    "ana.guarda(ruta,FILENAME)\n"
   ]
  },
  {
   "cell_type": "code",
   "execution_count": null,
   "id": "286ecfe4",
   "metadata": {},
   "outputs": [
    {
     "name": "stdout",
     "output_type": "stream",
     "text": [
      "saldo: 59280.0 \n",
      " interés acumulado: 2280.0 \n",
      " fecha y hora: 2022-03-15 06:57:06.133096\n",
      " \n"
     ]
    }
   ],
   "source": [
    "ana_recup = ana.recupera(ruta,FILENAME)\n",
    "print(ana_recup)"
   ]
  },
  {
   "cell_type": "markdown",
   "id": "47e72b18",
   "metadata": {},
   "source": [
    "## Tarea.\n",
    "\n",
    "Resuelva los siguientes ejercicios:\n",
    "\n",
    "### 1. Pet Class\n",
    "\n",
    "Write a class named Pet, which should have the following data attributes:\n",
    "+ _ _name (for the name of a pet)\n",
    "+ _ _animal_type (for the type of animal that a pet is. Example values are ‘Dog’, ‘Cat’,\n",
    "and ‘Bird’)\n",
    "+ _ _age (for the pet’s age)\n",
    "The Pet class should have an _ _init_ _ method that creates these attributes. It should also\n",
    "have the following methods:\n",
    "+ set_name\n",
    "This method assigns a value to the _ _name field.\n",
    "+ set_animal_type\n",
    "This method assigns a value to the _ _animal_type field.\n",
    "+ set_age\n",
    "This method assigns a value to the _ _age field.\n",
    "+ get_name\n",
    "This method returns the value of the _ _ name field.\n",
    "+ get_animal_type\n",
    "This method returns the value of the _ _animal_type field.\n",
    "+ get_age\n",
    "This method returns the value of the _ _age field.\n",
    "\n",
    "Once you have written the class, write a program that creates an object of the class and\n",
    "prompts the user to enter the name, type, and age of his or her pet. This data should be stored as the object’s attributes. \n",
    "\n",
    "Use the object’s accessor methods to retrieve the pet’s name,type, and age and display this data on the screen."
   ]
  },
  {
   "cell_type": "code",
   "execution_count": null,
   "id": "ceba5e66",
   "metadata": {},
   "outputs": [],
   "source": [
    "class Pet:\n",
    "    def __init__(self,nombre,tipo,edad):\n",
    "        self.__name = nombre\n",
    "        self.__animal_type = tipo\n",
    "        self.__age = edad\n",
    "        \n",
    "    def set_name(self,nombre):\n",
    "        self.__name = nombre\n",
    "        \n",
    "    def set_animal_type(self,tipo):\n",
    "        self.__animal_type = tipo\n",
    "        \n",
    "    def set_age(self,edad):\n",
    "        self.__age = edad\n",
    "        \n",
    "    def get_name(self):\n",
    "        return self.__name\n",
    "    \n",
    "    def get_animal_type(self):\n",
    "        return self.__animal_type\n",
    "    \n",
    "    def get_age(self):\n",
    "        return self.__age\n",
    "        "
   ]
  },
  {
   "cell_type": "code",
   "execution_count": null,
   "id": "8c89c1f0",
   "metadata": {},
   "outputs": [],
   "source": [
    "# Creates an object of the class and prompts the user to enter the name, type, and age of his or her pet. \n",
    "# This data should be stored as the object’s attributes. \n",
    "# Use the object’s accessor methods to retrieve the pet’s name,type, and age and display this data on the screen.\n",
    "\n",
    "nombre = input('Nombre de tu mascota: ')\n",
    "tipo = input('Tipo de mascota (perro, gato, pez,otro)')\n",
    "ok = False\n",
    "while not ok:\n",
    "    try:\n",
    "        edad = float(input('Edad de tu mascota en años: '))\n",
    "        ok = True\n",
    "    except:\n",
    "        print('Teclee un número')\n",
    "mascota = Pet(nombre,tipo,edad)\n",
    "\n",
    "print('Nombre: ',mascota.get_name(),'Tipo: ',mascota.get_animal_type(),'Edad: ', mascota.get_age())"
   ]
  },
  {
   "cell_type": "markdown",
   "id": "bcfea99e",
   "metadata": {},
   "source": [
    "### 2. Car Class\n",
    "\n",
    "Write a class named Car that has the following data attributes:\n",
    "+ _ _year_model (for the car’s year model)\n",
    "+ _ _make (for the make of the car)\n",
    "+ _ _speed (for the car’s current speed)\n",
    "\n",
    "The Car class should have an _ _init_ _ method that accepts the car’s year model and make\n",
    "as arguments. These values should be assigned to the object’s _ _year_model and _ _make\n",
    "data attributes. It should also assign 0 to the _ _speed data attribute.\n",
    "The class should also have the following methods:\n",
    "+ accelerate\n",
    "The accelerate method should add 5 to the speed data attribute each time it is called.\n",
    "+ brake\n",
    "The brake method should subtract 5 from the speed data attribute each time it is called.\n",
    "+ get_speed\n",
    "The get_speed method should return the current speed.\n",
    "\n",
    "Next, design a program that creates a Car object and then calls the accelerate method\n",
    "five times. After each call to the accelerate method, get the current speed of the car and\n",
    "display it. Then call the brake method five times. After each call to the brake method, get\n",
    "the current speed of the car and display it."
   ]
  },
  {
   "cell_type": "code",
   "execution_count": null,
   "id": "d958d4f1",
   "metadata": {},
   "outputs": [],
   "source": [
    "class Car:\n",
    "    pass"
   ]
  },
  {
   "cell_type": "markdown",
   "id": "101473ec",
   "metadata": {},
   "source": [
    "### 3. Personal Information Class\n",
    "\n",
    "Design a class that holds the following personal data: name, address, age, and phone number.\n",
    "\n",
    "Write appropriate accessor and mutator methods. \n",
    "\n",
    "Also, write a program that creates three instances of the class. One instance should hold your information, and the other two\n",
    "should hold your friends’ or family members’ information."
   ]
  },
  {
   "cell_type": "code",
   "execution_count": null,
   "id": "08289fdf",
   "metadata": {},
   "outputs": [],
   "source": [
    "class Persona:\n",
    "    pass"
   ]
  },
  {
   "cell_type": "markdown",
   "id": "ea5a51b3",
   "metadata": {},
   "source": [
    "### 4. Employee Class\n",
    "\n",
    "Write a class named Employee that holds the following data about an employee in attributes:\n",
    "name, ID number, department, and job title.\n",
    "\n",
    "Once you have written the class, write a program that creates three Employee objects to hold the following data:\n",
    "\n",
    "+ Name       ID Number   Department     Job Title\n",
    "\n",
    "Susan Meyers 47899       Accounting     Vice President\n",
    "\n",
    "Mark Jones   39119       IT             Programmer\n",
    "\n",
    "Joy Rogers   81774       Manufacturing  Engineer\n",
    "\n",
    "The program should store this data in the three objects and then display the data for each\n",
    "employee on the screen."
   ]
  },
  {
   "cell_type": "code",
   "execution_count": null,
   "id": "8a7cd44f",
   "metadata": {},
   "outputs": [],
   "source": []
  },
  {
   "cell_type": "markdown",
   "id": "bb5899a3",
   "metadata": {},
   "source": [
    "### 5. RetailItem Class\n",
    "\n",
    "Write a class named RetailItem that holds data about an item in a retail store. The class\n",
    "should store the following data in attributes: item description, units in inventory, and price.\n",
    "Once you have written the class, write a program that creates three RetailItem objects\n",
    "and stores the following data in them:\n",
    "\n",
    "        Description   Units in Inventory   Price\n",
    "\n",
    "Item #1 Jacket          12                 59.95\n",
    "\n",
    "Item #2 Designer Jeans  40                 34.95\n",
    "\n",
    "\n",
    "Item #3 Shirt           20                 24.95\n",
    "\n"
   ]
  },
  {
   "cell_type": "code",
   "execution_count": null,
   "id": "540c53ca",
   "metadata": {},
   "outputs": [],
   "source": []
  },
  {
   "cell_type": "markdown",
   "id": "bc648f5b",
   "metadata": {},
   "source": [
    "### 6. Employee Management System\n",
    "\n",
    "This exercise assumes that you have created the Employee class for Programming Exercise 4.\n",
    "Create a program that stores Employee objects in a dictionary. Use the employee ID number\n",
    "as the key. The program should present a menu that lets the user perform the following\n",
    "actions:\n",
    "+ Look up an employee in the dictionary\n",
    "+ Add a new employee to the dictionary\n",
    "+ Change an existing employee’s name, department, and job title in the dictionary\n",
    "+ Delete an employee from the dictionary\n",
    "+ Quit the program\n",
    "\n",
    "When the program ends, it should pickle the dictionary and save it to a file. Each time the\n",
    "program starts, it should try to load the pickled dictionary from the file. If the file does not\n",
    "exist, the program should start with an empty dictionary."
   ]
  },
  {
   "cell_type": "code",
   "execution_count": null,
   "id": "b1228241",
   "metadata": {},
   "outputs": [],
   "source": []
  },
  {
   "cell_type": "markdown",
   "id": "28b012f6",
   "metadata": {},
   "source": [
    "### 7. Cash Register\n",
    "\n",
    "This exercise assumes that you have created the RetailItem class for Programming\n",
    "Exercise 5. Create a CashRegister class that can be used with the RetailItem class. The\n",
    "CashRegister class should be able to internally keep a list of RetailItem objects. The\n",
    "class should have the following methods:\n",
    "+ A method named purchase_item that accepts a RetailItem object as an argument.\n",
    "Each time the purchase_item method is called, the RetailItem object that is passed\n",
    "as an argument should be added to the list.\n",
    "+ A method named get_total that returns the total price of all the RetailItem objects\n",
    "stored in the CashRegister object’s internal list.\n",
    "+ A method named show_items that displays data about the RetailItem objects stored\n",
    "in the CashRegister object’s internal list.\n",
    "+ A method named clear that should clear the CashRegister object’s internal list.\n",
    "\n",
    "Demonstrate the CashRegister class in a program that allows the user to select several\n",
    "items for purchase. When the user is ready to check out, the program should display a list\n",
    "of all the items he or she has selected for purchase, as well as the total price."
   ]
  }
 ],
 "metadata": {
  "kernelspec": {
   "display_name": "Python 3 (ipykernel)",
   "language": "python",
   "name": "python3"
  },
  "language_info": {
   "codemirror_mode": {
    "name": "ipython",
    "version": 3
   },
   "file_extension": ".py",
   "mimetype": "text/x-python",
   "name": "python",
   "nbconvert_exporter": "python",
   "pygments_lexer": "ipython3",
   "version": "3.11.6"
  }
 },
 "nbformat": 4,
 "nbformat_minor": 5
}
