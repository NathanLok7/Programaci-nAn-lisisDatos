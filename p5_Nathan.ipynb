{
 "cells": [
  {
   "cell_type": "code",
   "execution_count": 4,
   "metadata": {},
   "outputs": [
    {
     "name": "stdout",
     "output_type": "stream",
     "text": [
      "\n",
      "[set(), set(), {(1, 1)}, {(1, 2), (2, 1)}, {(3, 1), (1, 3), (2, 2)}, {(2, 3), (3, 2), (4, 1), (1, 4)}, {(2, 4), (1, 5), (5, 1), (4, 2), (3, 3)}, {(3, 4), (4, 3), (6, 1), (1, 6), (2, 5), (5, 2)}, {(4, 4), (6, 2), (2, 6), (5, 3), (3, 5)}, {(6, 3), (4, 5), (5, 4), (3, 6)}, {(4, 6), (6, 4), (5, 5)}, {(5, 6), (6, 5)}, {(6, 6)}]\n",
      "Resultado de la primera tirada: 6\n",
      "Resultado final del juego: Perdió\n"
     ]
    }
   ],
   "source": [
    "# Problema Dice Rolls (Crabs) | Nathan Lokier\n",
    "import random\n",
    "\n",
    "# 1. Crear una secuencia de 13 conjuntos \n",
    "dados = [set() for _ in range(13)]\n",
    "\n",
    "# 2. Doble for anidado para recorrer 36 combinaciones\n",
    "for i in range(1, 7):\n",
    "    for j in range(1, 7):\n",
    "        dados[i + j].add((i, j))\n",
    "\n",
    "print()\n",
    "print(dados)\n",
    "\n",
    "# Reglas\n",
    "lose = dados[2] | dados[3] | dados[12]\n",
    "win = dados[7] | dados[11]\n",
    "point = dados[4] | dados[5] | dados[6] | dados[8] | dados[9] | dados[10]\n",
    "craps = dados[7]\n",
    "\n",
    "def primera_tirada():\n",
    "    roll_1 = random.randint(1, 6)\n",
    "    roll_2 = random.randint(1, 6)\n",
    "    roll = (roll_1, roll_2)\n",
    "\n",
    "    if roll in lose:\n",
    "        return \"Perdió\"\n",
    "    elif roll in win:\n",
    "        return \"Ganó\"\n",
    "    else:\n",
    "        return roll_1 + roll_2 \n",
    "\n",
    "# Inicio de juego después de que se establece el punto:\n",
    "def func_juego(juego):\n",
    "    if juego in [\"Ganó\", \"Perdió\"]:\n",
    "        return juego\n",
    "\n",
    "    point_set = dados[juego]\n",
    "    while True:\n",
    "        roll_1 = random.randint(1, 6)\n",
    "        roll_2 = random.randint(1, 6)\n",
    "        roll = (roll_1, roll_2)\n",
    "\n",
    "        if roll in point_set:\n",
    "            return \"Ganó\"\n",
    "        elif roll in craps:\n",
    "            return \"Perdió\"\n",
    "\n",
    "juego = primera_tirada()\n",
    "print(f\"Resultado de la primera tirada: {juego}\")\n",
    "juego_final = func_juego(juego)\n",
    "print(f\"Resultado final del juego: {juego_final}\")\n"
   ]
  }
 ],
 "metadata": {
  "kernelspec": {
   "display_name": "Python 3",
   "language": "python",
   "name": "python3"
  },
  "language_info": {
   "codemirror_mode": {
    "name": "ipython",
    "version": 3
   },
   "file_extension": ".py",
   "mimetype": "text/x-python",
   "name": "python",
   "nbconvert_exporter": "python",
   "pygments_lexer": "ipython3",
   "version": "3.11.5"
  },
  "orig_nbformat": 4
 },
 "nbformat": 4,
 "nbformat_minor": 2
}
